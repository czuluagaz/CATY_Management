{
 "cells": [
  {
   "cell_type": "markdown",
   "metadata": {},
   "source": [
    "# Tomorrow IO API"
   ]
  },
  {
   "cell_type": "markdown",
   "metadata": {},
   "source": [
    "## Importing Libraries"
   ]
  },
  {
   "cell_type": "code",
   "execution_count": null,
   "metadata": {},
   "outputs": [],
   "source": [
    "# import Libraries\n",
    "import pandas as pd\n",
    "import requests\n",
    "import datetime\n",
    "import json"
   ]
  },
  {
   "cell_type": "markdown",
   "metadata": {},
   "source": [
    "## Global variables"
   ]
  },
  {
   "cell_type": "code",
   "execution_count": null,
   "metadata": {},
   "outputs": [],
   "source": [
    "# varaibles\n",
    "API_KEY = \"\"  # api key free from tomorrows.io\n",
    "lat = \"50.85045\"  # Brussels\n",
    "lon = \"4.34878\"  # Brussels\n",
    "fields = [\"temperature\", \"humidity\", \"precipProbability\", \"windSpeed\", \"cloudCover\", \"pressure\"]"
   ]
  },
  {
   "cell_type": "markdown",
   "metadata": {},
   "source": [
    "### Global variables historical"
   ]
  },
  {
   "cell_type": "code",
   "execution_count": null,
   "metadata": {},
   "outputs": [],
   "source": [
    "# # global varaibles for historical data\n",
    "# timesteps = [\"1h\"]\n",
    "# start_time = \"nowMinus30d\"\n",
    "# end_time = \"nowMinus15d\"\n",
    "# url = f\"https://api.tomorrow.io/v4/historical?apikey={API_KEY}\"\n",
    "# payload = {\n",
    "#     \"location\": location,\n",
    "#     \"fields\": fields,\n",
    "#     \"timesteps\": timesteps,\n",
    "#     \"startTime\": start_time,\n",
    "#     \"endTime\": end_time,\n",
    "# }\n",
    "# headers = {\n",
    "#     \"accept\": \"application/json\",\n",
    "#     \"Accept-Encoding\": \"gzip\",\n",
    "#     \"content-type\": \"application/json\"\n",
    "# }\n",
    "\n",
    "import requests\n",
    "\n",
    "url = \"https://api.tomorrow.io/v4/weather/history/recent?location=austin&apikey={API_KEY}\"  #\n",
    "headers = {\"accept\": \"application/json\"}\n",
    "response = requests.get(url, headers=headers)\n",
    "\n",
    "print(response.text)"
   ]
  },
  {
   "cell_type": "markdown",
   "metadata": {},
   "source": [
    "## Global variables forecast"
   ]
  },
  {
   "cell_type": "code",
   "execution_count": null,
   "metadata": {},
   "outputs": [],
   "source": [
    "url = f\"https://api.tomorrow.io/v4/weather/forecast?location={lat},{lon}&fields=temperature&timesteps=1h&&apikey={API_KEY}\"\n",
    "\n",
    "headers = {\"accept\": \"application/json\"}\n",
    "\n",
    "\n",
    "# url = \"https://api.tomorrow.io/v4/weather/forecast?location=brussels&timesteps=%221h%22&apikey=MlZxWzLbrTi9xWZmXgCfeDM40Qxu9C8M\"\n",
    "\n",
    "# headers = {\"accept\": \"application/json\"}\n",
    "\n",
    "# response = requests.get(url, headers=headers)\n",
    "\n",
    "# print(response.text)"
   ]
  },
  {
   "cell_type": "markdown",
   "metadata": {},
   "source": [
    "## Function Historical"
   ]
  },
  {
   "cell_type": "code",
   "execution_count": null,
   "metadata": {},
   "outputs": [],
   "source": [
    "# function to call historical daata\n",
    "def get_historical_data():\n",
    "    response = requests.post(url, json=payload, headers=headers)\n",
    "    # save the response to a file\n",
    "    with open(\"historical_data.json\", \"w\") as f:\n",
    "        f.write(response.text)\n",
    "    return response.json()"
   ]
  },
  {
   "cell_type": "markdown",
   "metadata": {},
   "source": [
    "## Function Forecast"
   ]
  },
  {
   "cell_type": "code",
   "execution_count": null,
   "metadata": {},
   "outputs": [],
   "source": [
    "response = requests.get(url, headers=headers)\n",
    "\n",
    "# save the response to a json file\n",
    "with open(\"response.json\", \"a\") as f:\n",
    "    f.write(response.text)"
   ]
  },
  {
   "cell_type": "code",
   "execution_count": null,
   "metadata": {},
   "outputs": [],
   "source": [
    "# normalize the json file\n",
    "data = response.json()\n",
    "df = pd.json_normalize(data)\n",
    "df.to_csv(\"response.csv\", index=False)\n",
    "\n",
    "# print the response\n",
    "print(response.json())\n",
    "\n",
    "df.head()"
   ]
  },
  {
   "cell_type": "code",
   "execution_count": null,
   "metadata": {},
   "outputs": [],
   "source": [
    "# flatten the nested json\n",
    "df_nested = pd.json_normalize(data, max_level=1)"
   ]
  },
  {
   "cell_type": "code",
   "execution_count": null,
   "metadata": {},
   "outputs": [],
   "source": [
    "df_nested.head()"
   ]
  },
  {
   "cell_type": "code",
   "execution_count": null,
   "metadata": {},
   "outputs": [],
   "source": [
    "data_dict = {\n",
    "    \"time\": \"2024-04-25T09:00:00Z\",\n",
    "    \"values\": {\n",
    "        \"cloudBase\": 0.68,\n",
    "        \"cloudCeiling\": 0.68,\n",
    "        \"cloudCover\": 71,\n",
    "        \"dewPoint\": 1.81,\n",
    "        \"evapotranspiration\": 0.154,\n",
    "        \"freezingRainIntensity\": 0,\n",
    "        \"humidity\": 68,\n",
    "        \"iceAccumulation\": 0,\n",
    "        \"iceAccumulationLwe\": 0,\n",
    "        \"precipitationProbability\": 0,\n",
    "        \"pressureSurfaceLevel\": 1001.95,\n",
    "        \"rainAccumulation\": 0,\n",
    "        \"rainAccumulationLwe\": 0,\n",
    "        \"rainIntensity\": 0,\n",
    "        \"sleetAccumulation\": 0,\n",
    "        \"sleetAccumulationLwe\": 0,\n",
    "        \"sleetIntensity\": 0,\n",
    "        \"snowAccumulation\": 0,\n",
    "        \"snowAccumulationLwe\": 0,\n",
    "        \"snowIntensity\": 0,\n",
    "        \"temperature\": 7.31,\n",
    "        \"temperatureApparent\": 7.31,\n",
    "        \"uvHealthConcern\": 1,\n",
    "        \"uvIndex\": 2,\n",
    "        \"visibility\": 13.73,\n",
    "        \"weatherCode\": 1102,\n",
    "        \"windDirection\": 241,\n",
    "        \"windGust\": 9.69,\n",
    "        \"windSpeed\": 4.88,\n",
    "    },\n",
    "}, {\n",
    "    \"time\": \"2024-04-25T10:00:00Z\",\n",
    "    \"values\": {\n",
    "        \"cloudBase\": 1,\n",
    "        \"cloudCeiling\": 1.16,\n",
    "        \"cloudCover\": 100,\n",
    "        \"dewPoint\": 1.06,\n",
    "        \"evapotranspiration\": 0.181,\n",
    "        \"freezingRainIntensity\": 0,\n",
    "        \"humidity\": 60.24,\n",
    "        \"iceAccumulation\": 0,\n",
    "        \"iceAccumulationLwe\": 0,\n",
    "        \"precipitationProbability\": 0,\n",
    "        \"pressureSurfaceLevel\": 1001.6,\n",
    "        \"rainAccumulation\": 0,\n",
    "        \"rainAccumulationLwe\": 0,\n",
    "        \"rainIntensity\": 0,\n",
    "        \"sleetAccumulation\": 0,\n",
    "        \"sleetAccumulationLwe\": 0,\n",
    "        \"sleetIntensity\": 0,\n",
    "        \"snowAccumulation\": 0,\n",
    "        \"snowAccumulationLwe\": 0,\n",
    "        \"snowIntensity\": 0,\n",
    "        \"temperature\": 8.31,\n",
    "        \"temperatureApparent\": 8.31,\n",
    "        \"uvHealthConcern\": 1,\n",
    "        \"uvIndex\": 2,\n",
    "        \"visibility\": 16,\n",
    "        \"weatherCode\": 1001,\n",
    "        \"windDirection\": 249.47,\n",
    "        \"windGust\": 10.65,\n",
    "        \"windSpeed\": 5.52,\n",
    "    },\n",
    "}\n",
    "\n",
    "# data_dict to dataframe\n",
    "# flatten the nested json\n",
    "df = pd.json_normalize(data_dict)\n",
    "# save the dataframe to a csv file\n",
    "df.to_csv(\"data_dict.csv\", index=False)"
   ]
  },
  {
   "cell_type": "markdown",
   "metadata": {},
   "source": [
    "## Call functions"
   ]
  },
  {
   "cell_type": "code",
   "execution_count": null,
   "metadata": {},
   "outputs": [],
   "source": []
  }
 ],
 "metadata": {
  "kernelspec": {
   "display_name": ".venv",
   "language": "python",
   "name": "python3"
  },
  "language_info": {
   "codemirror_mode": {
    "name": "ipython",
    "version": 3
   },
   "file_extension": ".py",
   "mimetype": "text/x-python",
   "name": "python",
   "nbconvert_exporter": "python",
   "pygments_lexer": "ipython3",
   "version": "3.11.8"
  }
 },
 "nbformat": 4,
 "nbformat_minor": 2
}
