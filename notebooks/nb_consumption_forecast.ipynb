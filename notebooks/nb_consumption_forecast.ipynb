{
 "cells": [
  {
   "cell_type": "markdown",
   "metadata": {},
   "source": [
    "# Forecast Consumption\n",
    "\n",
    "Forecasting using timeseries model the consumption of water, gas and electricity.\n",
    "\n",
    "https://www.tensorflow.org/tutorials/structured_data/time_series#setup\n",
    "\n"
   ]
  },
  {
   "cell_type": "code",
   "execution_count": 1,
   "metadata": {},
   "outputs": [],
   "source": [
    "# from pathlib import Path\n",
    "# import sys\n",
    "# import pandas as pd\n",
    "\n",
    "# sys.path.append(str(Path.cwd().parents[0]))\n",
    "# from core.data_manager import read_data_csv_df\n",
    "\n",
    "\n",
    "# # function to read the data\n",
    "# def read_data_csv_df(directory: str, filename: str) -> pd.DataFrame:\n",
    "#     path=Path.cwd().parents[0]\n",
    "#     try:\n",
    "#         df = pd.read_csv(path.joinpath(directory,filename))\n",
    "#         return df\n",
    "#     except FileNotFoundError:\n",
    "#         print(f\"File {filename} not found\")\n",
    "#         print(\"Please verify the file name and try again, and path\")\n",
    "#         exit()\n",
    "\n",
    "# df = read_data_csv_df(\"data_storage\", \"resampled_data_D_gas.csv\")\n",
    "\n",
    "\n",
    "# \"data_storage\", \"resampled_data_D_gas.csv\"\n",
    "\n",
    "# df = pd.read_csv(path.joinpath(\"data_storage\",\"resampled_data_D_gas.csv\"))\n",
    "# df.columns\n",
    "# print(df.columns)"
   ]
  },
  {
   "cell_type": "markdown",
   "metadata": {},
   "source": [
    "## Preparing the data"
   ]
  },
  {
   "cell_type": "code",
   "execution_count": 2,
   "metadata": {},
   "outputs": [
    {
     "name": "stderr",
     "output_type": "stream",
     "text": [
      "2024-06-19 23:05:43.569657: I external/local_tsl/tsl/cuda/cudart_stub.cc:32] Could not find cuda drivers on your machine, GPU will not be used.\n",
      "2024-06-19 23:05:43.659775: I external/local_tsl/tsl/cuda/cudart_stub.cc:32] Could not find cuda drivers on your machine, GPU will not be used.\n",
      "2024-06-19 23:05:46.336986: W tensorflow/compiler/tf2tensorrt/utils/py_utils.cc:38] TF-TRT Warning: Could not find TensorRT\n"
     ]
    }
   ],
   "source": [
    "# Import the necessary libraries\n",
    "import pandas as pd\n",
    "from os import path\n",
    "from pathlib import Path\n",
    "import matplotlib as mpl\n",
    "import matplotlib.pyplot as plt\n",
    "import numpy as np\n",
    "import seaborn as sns\n",
    "import tensorflow as tf\n",
    "\n",
    "mpl.rcParams['figure.figsize'] = (8, 6)\n",
    "mpl.rcParams['axes.grid'] = False\n",
    "\n",
    "\n",
    "# sys.path.append('../../')\n",
    "# from core.settings import gas_monthly_df"
   ]
  },
  {
   "cell_type": "code",
   "execution_count": 3,
   "metadata": {},
   "outputs": [],
   "source": [
    "# variables\n",
    "\n",
    "\n",
    "path = Path.cwd().parents[0]\n",
    "\n",
    "\n",
    "# gas_daily_df = pd.read_csv(path.joinpath(\"data_storage\",\"resampled_data_D_gas.csv\"))\n",
    "# water_daily_df = pd.read_csv(path.joinpath(\"data_storage\",\"resampled_data_D_water.csv\"))\n",
    "power_daily_df = pd.read_csv(\n",
    "    path.joinpath(\"data_storage\", \"resampled_data_D_power.csv\")\n",
    ")"
   ]
  },
  {
   "cell_type": "code",
   "execution_count": 4,
   "metadata": {},
   "outputs": [
    {
     "name": "stdout",
     "output_type": "stream",
     "text": [
      "<class 'pandas.core.frame.DataFrame'>\n",
      "RangeIndex: 4752 entries, 0 to 4751\n",
      "Data columns (total 4 columns):\n",
      " #   Column     Non-Null Count  Dtype  \n",
      "---  ------     --------------  -----  \n",
      " 0   date       4752 non-null   object \n",
      " 1   id_meter   4752 non-null   float64\n",
      " 2   power_kwh  4752 non-null   float64\n",
      " 3   calc_cons  4749 non-null   float64\n",
      "dtypes: float64(3), object(1)\n",
      "memory usage: 148.6+ KB\n"
     ]
    }
   ],
   "source": [
    "# gas_daily_df.info()\n",
    "# # gas_monthly_df.describe()\n",
    "\n",
    "power_daily_df.info()\n",
    "# power_monthly_df.describe()"
   ]
  },
  {
   "cell_type": "code",
   "execution_count": 5,
   "metadata": {},
   "outputs": [
    {
     "data": {
      "text/html": [
       "<div>\n",
       "<style scoped>\n",
       "    .dataframe tbody tr th:only-of-type {\n",
       "        vertical-align: middle;\n",
       "    }\n",
       "\n",
       "    .dataframe tbody tr th {\n",
       "        vertical-align: top;\n",
       "    }\n",
       "\n",
       "    .dataframe thead th {\n",
       "        text-align: right;\n",
       "    }\n",
       "</style>\n",
       "<table border=\"1\" class=\"dataframe\">\n",
       "  <thead>\n",
       "    <tr style=\"text-align: right;\">\n",
       "      <th></th>\n",
       "      <th>date</th>\n",
       "      <th>id_meter</th>\n",
       "      <th>power_kwh</th>\n",
       "      <th>calc_cons</th>\n",
       "    </tr>\n",
       "  </thead>\n",
       "  <tbody>\n",
       "    <tr>\n",
       "      <th>0</th>\n",
       "      <td>2014-09-04</td>\n",
       "      <td>4.0</td>\n",
       "      <td>51419.300000</td>\n",
       "      <td>NaN</td>\n",
       "    </tr>\n",
       "    <tr>\n",
       "      <th>1</th>\n",
       "      <td>2014-09-05</td>\n",
       "      <td>4.0</td>\n",
       "      <td>51422.141748</td>\n",
       "      <td>2.841748</td>\n",
       "    </tr>\n",
       "    <tr>\n",
       "      <th>2</th>\n",
       "      <td>2014-09-06</td>\n",
       "      <td>4.0</td>\n",
       "      <td>51424.983495</td>\n",
       "      <td>2.841748</td>\n",
       "    </tr>\n",
       "    <tr>\n",
       "      <th>3</th>\n",
       "      <td>2014-09-07</td>\n",
       "      <td>4.0</td>\n",
       "      <td>51427.825243</td>\n",
       "      <td>2.841748</td>\n",
       "    </tr>\n",
       "    <tr>\n",
       "      <th>4</th>\n",
       "      <td>2014-09-08</td>\n",
       "      <td>4.0</td>\n",
       "      <td>51430.666990</td>\n",
       "      <td>2.841748</td>\n",
       "    </tr>\n",
       "    <tr>\n",
       "      <th>5</th>\n",
       "      <td>2014-09-09</td>\n",
       "      <td>4.0</td>\n",
       "      <td>51433.508738</td>\n",
       "      <td>2.841748</td>\n",
       "    </tr>\n",
       "    <tr>\n",
       "      <th>6</th>\n",
       "      <td>2014-09-10</td>\n",
       "      <td>4.0</td>\n",
       "      <td>51436.350485</td>\n",
       "      <td>2.841748</td>\n",
       "    </tr>\n",
       "    <tr>\n",
       "      <th>7</th>\n",
       "      <td>2014-09-11</td>\n",
       "      <td>4.0</td>\n",
       "      <td>51439.192233</td>\n",
       "      <td>2.841748</td>\n",
       "    </tr>\n",
       "    <tr>\n",
       "      <th>8</th>\n",
       "      <td>2014-09-12</td>\n",
       "      <td>4.0</td>\n",
       "      <td>51442.033981</td>\n",
       "      <td>2.841748</td>\n",
       "    </tr>\n",
       "    <tr>\n",
       "      <th>9</th>\n",
       "      <td>2014-09-13</td>\n",
       "      <td>4.0</td>\n",
       "      <td>51444.875728</td>\n",
       "      <td>2.841748</td>\n",
       "    </tr>\n",
       "    <tr>\n",
       "      <th>10</th>\n",
       "      <td>2014-09-14</td>\n",
       "      <td>4.0</td>\n",
       "      <td>51447.717476</td>\n",
       "      <td>2.841748</td>\n",
       "    </tr>\n",
       "    <tr>\n",
       "      <th>11</th>\n",
       "      <td>2014-09-15</td>\n",
       "      <td>4.0</td>\n",
       "      <td>51450.559223</td>\n",
       "      <td>2.841748</td>\n",
       "    </tr>\n",
       "    <tr>\n",
       "      <th>12</th>\n",
       "      <td>2014-09-16</td>\n",
       "      <td>4.0</td>\n",
       "      <td>51453.400971</td>\n",
       "      <td>2.841748</td>\n",
       "    </tr>\n",
       "    <tr>\n",
       "      <th>13</th>\n",
       "      <td>2014-09-17</td>\n",
       "      <td>4.0</td>\n",
       "      <td>51456.242718</td>\n",
       "      <td>2.841748</td>\n",
       "    </tr>\n",
       "    <tr>\n",
       "      <th>14</th>\n",
       "      <td>2014-09-18</td>\n",
       "      <td>4.0</td>\n",
       "      <td>51459.084466</td>\n",
       "      <td>2.841748</td>\n",
       "    </tr>\n",
       "    <tr>\n",
       "      <th>15</th>\n",
       "      <td>2014-09-19</td>\n",
       "      <td>4.0</td>\n",
       "      <td>51461.926214</td>\n",
       "      <td>2.841748</td>\n",
       "    </tr>\n",
       "    <tr>\n",
       "      <th>16</th>\n",
       "      <td>2014-09-20</td>\n",
       "      <td>4.0</td>\n",
       "      <td>51464.767961</td>\n",
       "      <td>2.841748</td>\n",
       "    </tr>\n",
       "    <tr>\n",
       "      <th>17</th>\n",
       "      <td>2014-09-21</td>\n",
       "      <td>4.0</td>\n",
       "      <td>51467.609709</td>\n",
       "      <td>2.841748</td>\n",
       "    </tr>\n",
       "    <tr>\n",
       "      <th>18</th>\n",
       "      <td>2014-09-22</td>\n",
       "      <td>4.0</td>\n",
       "      <td>51470.451456</td>\n",
       "      <td>2.841748</td>\n",
       "    </tr>\n",
       "    <tr>\n",
       "      <th>19</th>\n",
       "      <td>2014-09-23</td>\n",
       "      <td>4.0</td>\n",
       "      <td>51473.293204</td>\n",
       "      <td>2.841748</td>\n",
       "    </tr>\n",
       "    <tr>\n",
       "      <th>20</th>\n",
       "      <td>2014-09-24</td>\n",
       "      <td>4.0</td>\n",
       "      <td>51476.134951</td>\n",
       "      <td>2.841748</td>\n",
       "    </tr>\n",
       "    <tr>\n",
       "      <th>21</th>\n",
       "      <td>2014-09-25</td>\n",
       "      <td>4.0</td>\n",
       "      <td>51478.976699</td>\n",
       "      <td>2.841748</td>\n",
       "    </tr>\n",
       "    <tr>\n",
       "      <th>22</th>\n",
       "      <td>2014-09-26</td>\n",
       "      <td>4.0</td>\n",
       "      <td>51481.818447</td>\n",
       "      <td>2.841748</td>\n",
       "    </tr>\n",
       "    <tr>\n",
       "      <th>23</th>\n",
       "      <td>2014-09-27</td>\n",
       "      <td>4.0</td>\n",
       "      <td>51484.660194</td>\n",
       "      <td>2.841748</td>\n",
       "    </tr>\n",
       "    <tr>\n",
       "      <th>24</th>\n",
       "      <td>2014-09-28</td>\n",
       "      <td>4.0</td>\n",
       "      <td>51487.501942</td>\n",
       "      <td>2.841748</td>\n",
       "    </tr>\n",
       "    <tr>\n",
       "      <th>25</th>\n",
       "      <td>2014-09-29</td>\n",
       "      <td>4.0</td>\n",
       "      <td>51490.343689</td>\n",
       "      <td>2.841748</td>\n",
       "    </tr>\n",
       "    <tr>\n",
       "      <th>26</th>\n",
       "      <td>2014-09-30</td>\n",
       "      <td>4.0</td>\n",
       "      <td>51493.185437</td>\n",
       "      <td>2.841748</td>\n",
       "    </tr>\n",
       "    <tr>\n",
       "      <th>27</th>\n",
       "      <td>2014-10-01</td>\n",
       "      <td>4.0</td>\n",
       "      <td>51496.027184</td>\n",
       "      <td>2.841748</td>\n",
       "    </tr>\n",
       "    <tr>\n",
       "      <th>28</th>\n",
       "      <td>2014-10-02</td>\n",
       "      <td>4.0</td>\n",
       "      <td>51498.868932</td>\n",
       "      <td>2.841748</td>\n",
       "    </tr>\n",
       "    <tr>\n",
       "      <th>4723</th>\n",
       "      <td>2014-09-04</td>\n",
       "      <td>7.0</td>\n",
       "      <td>2201.287391</td>\n",
       "      <td>1.104022</td>\n",
       "    </tr>\n",
       "    <tr>\n",
       "      <th>4724</th>\n",
       "      <td>2014-09-05</td>\n",
       "      <td>7.0</td>\n",
       "      <td>2202.391413</td>\n",
       "      <td>1.104022</td>\n",
       "    </tr>\n",
       "    <tr>\n",
       "      <th>4725</th>\n",
       "      <td>2014-09-06</td>\n",
       "      <td>7.0</td>\n",
       "      <td>2203.495435</td>\n",
       "      <td>1.104022</td>\n",
       "    </tr>\n",
       "    <tr>\n",
       "      <th>4726</th>\n",
       "      <td>2014-09-07</td>\n",
       "      <td>7.0</td>\n",
       "      <td>2204.599457</td>\n",
       "      <td>1.104022</td>\n",
       "    </tr>\n",
       "    <tr>\n",
       "      <th>4727</th>\n",
       "      <td>2014-09-08</td>\n",
       "      <td>7.0</td>\n",
       "      <td>2205.703478</td>\n",
       "      <td>1.104022</td>\n",
       "    </tr>\n",
       "    <tr>\n",
       "      <th>4728</th>\n",
       "      <td>2014-09-09</td>\n",
       "      <td>7.0</td>\n",
       "      <td>2206.807500</td>\n",
       "      <td>1.104022</td>\n",
       "    </tr>\n",
       "    <tr>\n",
       "      <th>4729</th>\n",
       "      <td>2014-09-10</td>\n",
       "      <td>7.0</td>\n",
       "      <td>2207.911522</td>\n",
       "      <td>1.104022</td>\n",
       "    </tr>\n",
       "    <tr>\n",
       "      <th>4730</th>\n",
       "      <td>2014-09-11</td>\n",
       "      <td>7.0</td>\n",
       "      <td>2209.015543</td>\n",
       "      <td>1.104022</td>\n",
       "    </tr>\n",
       "    <tr>\n",
       "      <th>4731</th>\n",
       "      <td>2014-09-12</td>\n",
       "      <td>7.0</td>\n",
       "      <td>2210.119565</td>\n",
       "      <td>1.104022</td>\n",
       "    </tr>\n",
       "    <tr>\n",
       "      <th>4732</th>\n",
       "      <td>2014-09-13</td>\n",
       "      <td>7.0</td>\n",
       "      <td>2211.223587</td>\n",
       "      <td>1.104022</td>\n",
       "    </tr>\n",
       "    <tr>\n",
       "      <th>4733</th>\n",
       "      <td>2014-09-14</td>\n",
       "      <td>7.0</td>\n",
       "      <td>2212.327609</td>\n",
       "      <td>1.104022</td>\n",
       "    </tr>\n",
       "    <tr>\n",
       "      <th>4734</th>\n",
       "      <td>2014-09-15</td>\n",
       "      <td>7.0</td>\n",
       "      <td>2213.431630</td>\n",
       "      <td>1.104022</td>\n",
       "    </tr>\n",
       "    <tr>\n",
       "      <th>4735</th>\n",
       "      <td>2014-09-16</td>\n",
       "      <td>7.0</td>\n",
       "      <td>2214.535652</td>\n",
       "      <td>1.104022</td>\n",
       "    </tr>\n",
       "    <tr>\n",
       "      <th>4736</th>\n",
       "      <td>2014-09-17</td>\n",
       "      <td>7.0</td>\n",
       "      <td>2215.639674</td>\n",
       "      <td>1.104022</td>\n",
       "    </tr>\n",
       "    <tr>\n",
       "      <th>4737</th>\n",
       "      <td>2014-09-18</td>\n",
       "      <td>7.0</td>\n",
       "      <td>2216.743696</td>\n",
       "      <td>1.104022</td>\n",
       "    </tr>\n",
       "    <tr>\n",
       "      <th>4738</th>\n",
       "      <td>2014-09-19</td>\n",
       "      <td>7.0</td>\n",
       "      <td>2217.847717</td>\n",
       "      <td>1.104022</td>\n",
       "    </tr>\n",
       "    <tr>\n",
       "      <th>4739</th>\n",
       "      <td>2014-09-20</td>\n",
       "      <td>7.0</td>\n",
       "      <td>2218.951739</td>\n",
       "      <td>1.104022</td>\n",
       "    </tr>\n",
       "    <tr>\n",
       "      <th>4740</th>\n",
       "      <td>2014-09-21</td>\n",
       "      <td>7.0</td>\n",
       "      <td>2220.055761</td>\n",
       "      <td>1.104022</td>\n",
       "    </tr>\n",
       "    <tr>\n",
       "      <th>4741</th>\n",
       "      <td>2014-09-22</td>\n",
       "      <td>7.0</td>\n",
       "      <td>2221.159783</td>\n",
       "      <td>1.104022</td>\n",
       "    </tr>\n",
       "    <tr>\n",
       "      <th>4742</th>\n",
       "      <td>2014-09-23</td>\n",
       "      <td>7.0</td>\n",
       "      <td>2222.263804</td>\n",
       "      <td>1.104022</td>\n",
       "    </tr>\n",
       "    <tr>\n",
       "      <th>4743</th>\n",
       "      <td>2014-09-24</td>\n",
       "      <td>7.0</td>\n",
       "      <td>2223.367826</td>\n",
       "      <td>1.104022</td>\n",
       "    </tr>\n",
       "    <tr>\n",
       "      <th>4744</th>\n",
       "      <td>2014-09-25</td>\n",
       "      <td>7.0</td>\n",
       "      <td>2224.471848</td>\n",
       "      <td>1.104022</td>\n",
       "    </tr>\n",
       "    <tr>\n",
       "      <th>4745</th>\n",
       "      <td>2014-09-26</td>\n",
       "      <td>7.0</td>\n",
       "      <td>2225.575870</td>\n",
       "      <td>1.104022</td>\n",
       "    </tr>\n",
       "    <tr>\n",
       "      <th>4746</th>\n",
       "      <td>2014-09-27</td>\n",
       "      <td>7.0</td>\n",
       "      <td>2226.679891</td>\n",
       "      <td>1.104022</td>\n",
       "    </tr>\n",
       "    <tr>\n",
       "      <th>4747</th>\n",
       "      <td>2014-09-28</td>\n",
       "      <td>7.0</td>\n",
       "      <td>2227.783913</td>\n",
       "      <td>1.104022</td>\n",
       "    </tr>\n",
       "    <tr>\n",
       "      <th>4748</th>\n",
       "      <td>2014-09-29</td>\n",
       "      <td>7.0</td>\n",
       "      <td>2228.887935</td>\n",
       "      <td>1.104022</td>\n",
       "    </tr>\n",
       "    <tr>\n",
       "      <th>4749</th>\n",
       "      <td>2014-09-30</td>\n",
       "      <td>7.0</td>\n",
       "      <td>2229.991957</td>\n",
       "      <td>1.104022</td>\n",
       "    </tr>\n",
       "    <tr>\n",
       "      <th>4750</th>\n",
       "      <td>2014-10-01</td>\n",
       "      <td>7.0</td>\n",
       "      <td>2231.095978</td>\n",
       "      <td>1.104022</td>\n",
       "    </tr>\n",
       "    <tr>\n",
       "      <th>4751</th>\n",
       "      <td>2014-10-02</td>\n",
       "      <td>7.0</td>\n",
       "      <td>2232.200000</td>\n",
       "      <td>1.104022</td>\n",
       "    </tr>\n",
       "  </tbody>\n",
       "</table>\n",
       "</div>"
      ],
      "text/plain": [
       "            date  id_meter     power_kwh  calc_cons\n",
       "0     2014-09-04       4.0  51419.300000        NaN\n",
       "1     2014-09-05       4.0  51422.141748   2.841748\n",
       "2     2014-09-06       4.0  51424.983495   2.841748\n",
       "3     2014-09-07       4.0  51427.825243   2.841748\n",
       "4     2014-09-08       4.0  51430.666990   2.841748\n",
       "5     2014-09-09       4.0  51433.508738   2.841748\n",
       "6     2014-09-10       4.0  51436.350485   2.841748\n",
       "7     2014-09-11       4.0  51439.192233   2.841748\n",
       "8     2014-09-12       4.0  51442.033981   2.841748\n",
       "9     2014-09-13       4.0  51444.875728   2.841748\n",
       "10    2014-09-14       4.0  51447.717476   2.841748\n",
       "11    2014-09-15       4.0  51450.559223   2.841748\n",
       "12    2014-09-16       4.0  51453.400971   2.841748\n",
       "13    2014-09-17       4.0  51456.242718   2.841748\n",
       "14    2014-09-18       4.0  51459.084466   2.841748\n",
       "15    2014-09-19       4.0  51461.926214   2.841748\n",
       "16    2014-09-20       4.0  51464.767961   2.841748\n",
       "17    2014-09-21       4.0  51467.609709   2.841748\n",
       "18    2014-09-22       4.0  51470.451456   2.841748\n",
       "19    2014-09-23       4.0  51473.293204   2.841748\n",
       "20    2014-09-24       4.0  51476.134951   2.841748\n",
       "21    2014-09-25       4.0  51478.976699   2.841748\n",
       "22    2014-09-26       4.0  51481.818447   2.841748\n",
       "23    2014-09-27       4.0  51484.660194   2.841748\n",
       "24    2014-09-28       4.0  51487.501942   2.841748\n",
       "25    2014-09-29       4.0  51490.343689   2.841748\n",
       "26    2014-09-30       4.0  51493.185437   2.841748\n",
       "27    2014-10-01       4.0  51496.027184   2.841748\n",
       "28    2014-10-02       4.0  51498.868932   2.841748\n",
       "4723  2014-09-04       7.0   2201.287391   1.104022\n",
       "4724  2014-09-05       7.0   2202.391413   1.104022\n",
       "4725  2014-09-06       7.0   2203.495435   1.104022\n",
       "4726  2014-09-07       7.0   2204.599457   1.104022\n",
       "4727  2014-09-08       7.0   2205.703478   1.104022\n",
       "4728  2014-09-09       7.0   2206.807500   1.104022\n",
       "4729  2014-09-10       7.0   2207.911522   1.104022\n",
       "4730  2014-09-11       7.0   2209.015543   1.104022\n",
       "4731  2014-09-12       7.0   2210.119565   1.104022\n",
       "4732  2014-09-13       7.0   2211.223587   1.104022\n",
       "4733  2014-09-14       7.0   2212.327609   1.104022\n",
       "4734  2014-09-15       7.0   2213.431630   1.104022\n",
       "4735  2014-09-16       7.0   2214.535652   1.104022\n",
       "4736  2014-09-17       7.0   2215.639674   1.104022\n",
       "4737  2014-09-18       7.0   2216.743696   1.104022\n",
       "4738  2014-09-19       7.0   2217.847717   1.104022\n",
       "4739  2014-09-20       7.0   2218.951739   1.104022\n",
       "4740  2014-09-21       7.0   2220.055761   1.104022\n",
       "4741  2014-09-22       7.0   2221.159783   1.104022\n",
       "4742  2014-09-23       7.0   2222.263804   1.104022\n",
       "4743  2014-09-24       7.0   2223.367826   1.104022\n",
       "4744  2014-09-25       7.0   2224.471848   1.104022\n",
       "4745  2014-09-26       7.0   2225.575870   1.104022\n",
       "4746  2014-09-27       7.0   2226.679891   1.104022\n",
       "4747  2014-09-28       7.0   2227.783913   1.104022\n",
       "4748  2014-09-29       7.0   2228.887935   1.104022\n",
       "4749  2014-09-30       7.0   2229.991957   1.104022\n",
       "4750  2014-10-01       7.0   2231.095978   1.104022\n",
       "4751  2014-10-02       7.0   2232.200000   1.104022"
      ]
     },
     "execution_count": 5,
     "metadata": {},
     "output_type": "execute_result"
    }
   ],
   "source": [
    "# show duplicate dates in the data\n",
    "power_daily_df[power_daily_df.duplicated(subset=[\"date\"], keep=False)]"
   ]
  },
  {
   "cell_type": "code",
   "execution_count": 6,
   "metadata": {},
   "outputs": [
    {
     "data": {
      "text/html": [
       "<div>\n",
       "<style scoped>\n",
       "    .dataframe tbody tr th:only-of-type {\n",
       "        vertical-align: middle;\n",
       "    }\n",
       "\n",
       "    .dataframe tbody tr th {\n",
       "        vertical-align: top;\n",
       "    }\n",
       "\n",
       "    .dataframe thead th {\n",
       "        text-align: right;\n",
       "    }\n",
       "</style>\n",
       "<table border=\"1\" class=\"dataframe\">\n",
       "  <thead>\n",
       "    <tr style=\"text-align: right;\">\n",
       "      <th></th>\n",
       "      <th>date</th>\n",
       "      <th>id_meter</th>\n",
       "      <th>power_kwh</th>\n",
       "      <th>calc_cons</th>\n",
       "    </tr>\n",
       "  </thead>\n",
       "  <tbody>\n",
       "    <tr>\n",
       "      <th>3532</th>\n",
       "      <td>2011-06-01</td>\n",
       "      <td>7.0</td>\n",
       "      <td>0.000000</td>\n",
       "      <td>NaN</td>\n",
       "    </tr>\n",
       "    <tr>\n",
       "      <th>3533</th>\n",
       "      <td>2011-06-02</td>\n",
       "      <td>7.0</td>\n",
       "      <td>4.068562</td>\n",
       "      <td>4.068562</td>\n",
       "    </tr>\n",
       "    <tr>\n",
       "      <th>3534</th>\n",
       "      <td>2011-06-03</td>\n",
       "      <td>7.0</td>\n",
       "      <td>8.137124</td>\n",
       "      <td>4.068562</td>\n",
       "    </tr>\n",
       "    <tr>\n",
       "      <th>3535</th>\n",
       "      <td>2011-06-04</td>\n",
       "      <td>7.0</td>\n",
       "      <td>12.205686</td>\n",
       "      <td>4.068562</td>\n",
       "    </tr>\n",
       "    <tr>\n",
       "      <th>3536</th>\n",
       "      <td>2011-06-05</td>\n",
       "      <td>7.0</td>\n",
       "      <td>16.274247</td>\n",
       "      <td>4.068562</td>\n",
       "    </tr>\n",
       "    <tr>\n",
       "      <th>...</th>\n",
       "      <td>...</td>\n",
       "      <td>...</td>\n",
       "      <td>...</td>\n",
       "      <td>...</td>\n",
       "    </tr>\n",
       "    <tr>\n",
       "      <th>2371</th>\n",
       "      <td>2021-03-02</td>\n",
       "      <td>4.0</td>\n",
       "      <td>57229.933333</td>\n",
       "      <td>2.133333</td>\n",
       "    </tr>\n",
       "    <tr>\n",
       "      <th>2372</th>\n",
       "      <td>2021-03-03</td>\n",
       "      <td>4.0</td>\n",
       "      <td>57232.066667</td>\n",
       "      <td>2.133333</td>\n",
       "    </tr>\n",
       "    <tr>\n",
       "      <th>2373</th>\n",
       "      <td>2021-03-04</td>\n",
       "      <td>4.0</td>\n",
       "      <td>57234.200000</td>\n",
       "      <td>2.133333</td>\n",
       "    </tr>\n",
       "    <tr>\n",
       "      <th>2374</th>\n",
       "      <td>2021-04-01</td>\n",
       "      <td>5.0</td>\n",
       "      <td>104.900000</td>\n",
       "      <td>NaN</td>\n",
       "    </tr>\n",
       "    <tr>\n",
       "      <th>2375</th>\n",
       "      <td>2021-04-02</td>\n",
       "      <td>5.0</td>\n",
       "      <td>108.576667</td>\n",
       "      <td>3.676667</td>\n",
       "    </tr>\n",
       "  </tbody>\n",
       "</table>\n",
       "<p>3596 rows × 4 columns</p>\n",
       "</div>"
      ],
      "text/plain": [
       "            date  id_meter     power_kwh  calc_cons\n",
       "3532  2011-06-01       7.0      0.000000        NaN\n",
       "3533  2011-06-02       7.0      4.068562   4.068562\n",
       "3534  2011-06-03       7.0      8.137124   4.068562\n",
       "3535  2011-06-04       7.0     12.205686   4.068562\n",
       "3536  2011-06-05       7.0     16.274247   4.068562\n",
       "...          ...       ...           ...        ...\n",
       "2371  2021-03-02       4.0  57229.933333   2.133333\n",
       "2372  2021-03-03       4.0  57232.066667   2.133333\n",
       "2373  2021-03-04       4.0  57234.200000   2.133333\n",
       "2374  2021-04-01       5.0    104.900000        NaN\n",
       "2375  2021-04-02       5.0    108.576667   3.676667\n",
       "\n",
       "[3596 rows x 4 columns]"
      ]
     },
     "execution_count": 6,
     "metadata": {},
     "output_type": "execute_result"
    }
   ],
   "source": [
    "# sort by date\n",
    "power_daily_df.sort_values(by=[\"date\"], inplace=True)\n",
    "# show date 2021-04-01\n",
    "power_daily_df[power_daily_df[\"date\"] < \"2021-04-03\"]"
   ]
  },
  {
   "cell_type": "code",
   "execution_count": 7,
   "metadata": {},
   "outputs": [
    {
     "name": "stdout",
     "output_type": "stream",
     "text": [
      "            date  id_meter  power_kwh  calc_cons\n",
      "3532  2011-06-01       7.0   0.000000        NaN\n",
      "3533  2011-06-02       7.0   4.068562   4.068562\n",
      "3534  2011-06-03       7.0   8.137124   4.068562\n",
      "3535  2011-06-04       7.0  12.205686   4.068562\n",
      "3536  2011-06-05       7.0  16.274247   4.068562\n",
      "<class 'pandas.core.frame.DataFrame'>\n",
      "RangeIndex: 4723 entries, 0 to 4722\n",
      "Data columns (total 3 columns):\n",
      " #   Column     Non-Null Count  Dtype         \n",
      "---  ------     --------------  -----         \n",
      " 0   date       4723 non-null   datetime64[ns]\n",
      " 1   calc_cons  4723 non-null   float64       \n",
      " 2   id_meter   4723 non-null   float64       \n",
      "dtypes: datetime64[ns](1), float64(2)\n",
      "memory usage: 110.8 KB\n"
     ]
    }
   ],
   "source": [
    "print(power_daily_df.head())\n",
    "# Dealing with missing values\n",
    "# # show NaN values rows\n",
    "# gas_monthly_df[gas_monthly_df.isnull().any(axis=1)]\n",
    "\n",
    "# # show duplicate rows\n",
    "# gas_monthly_df[gas_monthly_df.duplicated()]\n",
    "\n",
    "# # show rows for date 2014-09-04\n",
    "# gas_monthly_df[gas_monthly_df['date'] == '2014-09-04']\n",
    "\n",
    "# agregate by id_meter, date\n",
    "power_daily_df = power_daily_df.groupby([\"id_meter\", \"date\"]).agg(\"sum\").reset_index()\n",
    "\n",
    "# agregate by date, if id_meter is the same, sum the values, else keep both values\n",
    "power_daily_df = (\n",
    "    power_daily_df.groupby([\"date\"])\n",
    "    .agg(\n",
    "        {\n",
    "            \"calc_cons\": \"sum\",\n",
    "            \"id_meter\": lambda x: \", \".join(map(str, x)),\n",
    "        }\n",
    "    )\n",
    "    .reset_index()\n",
    ")\n",
    "\n",
    "# in the column id_meter, keep only one value\n",
    "power_daily_df[\"id_meter\"] = power_daily_df[\"id_meter\"].apply(lambda x: x.split(\",\")[0])\n",
    "\n",
    "# convert id_meter to float\n",
    "power_daily_df[\"id_meter\"] = power_daily_df[\"id_meter\"].astype(float)\n",
    "\n",
    "# # in the column id_meter, keep only the value that is last in the list\n",
    "# power_daily_df[\"id_meter\"] = power_daily_df[\"id_meter\"].apply(\n",
    "#     lambda x: x.split(\",\")[-1]\n",
    "# )\n",
    "# # remove empty spaces in the column id_meter\n",
    "# power_daily_df[\"id_meter\"] = power_daily_df[\"id_meter\"].str.strip()\n",
    "\n",
    "# fill row 0 NaN value with 0\n",
    "power_daily_df = power_daily_df.fillna(0, inplace=False)\n",
    "\n",
    "# drop duplicate rows keeping the last row\n",
    "power_daily_df.drop_duplicates(subset=[\"date\"], keep=\"last\", inplace=True)\n",
    "\n",
    "# # show duplicate dates rows\n",
    "# gas_monthly_df[gas_monthly_df.duplicated(['date'])]\n",
    "\n",
    "# # # drop duplicate dates rows\n",
    "# # gas_monthly_df.drop_duplicates(subset=['date'], inplace=False)\n",
    "\n",
    "# convert date column to datetime\n",
    "power_daily_df[\"date\"] = pd.to_datetime(power_daily_df[\"date\"])\n",
    "\n",
    "\n",
    "power_daily_df.info()\n",
    "\n",
    "# # verify that there are not missing dates in the data\n",
    "# gas_monthly_df['date'] = pd.to_datetime(gas_monthly_df['date'])\n",
    "# gas_monthly_df['date'].diff().dt.days"
   ]
  },
  {
   "cell_type": "code",
   "execution_count": 8,
   "metadata": {},
   "outputs": [
    {
     "data": {
      "text/plain": [
       "array([7., 4., 5.])"
      ]
     },
     "execution_count": 8,
     "metadata": {},
     "output_type": "execute_result"
    }
   ],
   "source": [
    "# drop columns not columns 1 to 3\n",
    "# gas_daily_df = gas_daily_df.drop(gas_daily_df.columns[1:3], axis=1, inplace=False)\n",
    "\n",
    "power_daily_df.head()\n",
    "\n",
    "# unique values in id_meter column\n",
    "power_daily_df[\"id_meter\"].unique()\n",
    "\n",
    "# # show values with id_meter == 11\n",
    "# power_daily_df[power_daily_df['id_meter'] == 11]"
   ]
  },
  {
   "cell_type": "code",
   "execution_count": 9,
   "metadata": {},
   "outputs": [
    {
     "data": {
      "text/html": [
       "<div>\n",
       "<style scoped>\n",
       "    .dataframe tbody tr th:only-of-type {\n",
       "        vertical-align: middle;\n",
       "    }\n",
       "\n",
       "    .dataframe tbody tr th {\n",
       "        vertical-align: top;\n",
       "    }\n",
       "\n",
       "    .dataframe thead th {\n",
       "        text-align: right;\n",
       "    }\n",
       "</style>\n",
       "<table border=\"1\" class=\"dataframe\">\n",
       "  <thead>\n",
       "    <tr style=\"text-align: right;\">\n",
       "      <th></th>\n",
       "      <th>date</th>\n",
       "      <th>calc_cons</th>\n",
       "      <th>id_meter</th>\n",
       "    </tr>\n",
       "  </thead>\n",
       "  <tbody>\n",
       "    <tr>\n",
       "      <th>0</th>\n",
       "      <td>2011-06-01</td>\n",
       "      <td>0.0</td>\n",
       "      <td>7.0</td>\n",
       "    </tr>\n",
       "    <tr>\n",
       "      <th>3565</th>\n",
       "      <td>2021-04-01</td>\n",
       "      <td>0.0</td>\n",
       "      <td>5.0</td>\n",
       "    </tr>\n",
       "  </tbody>\n",
       "</table>\n",
       "</div>"
      ],
      "text/plain": [
       "           date  calc_cons  id_meter\n",
       "0    2011-06-01        0.0       7.0\n",
       "3565 2021-04-01        0.0       5.0"
      ]
     },
     "execution_count": 9,
     "metadata": {},
     "output_type": "execute_result"
    }
   ],
   "source": [
    "# show 0 values in calc_cons column\n",
    "power_daily_df[power_daily_df[\"calc_cons\"] == 0]"
   ]
  },
  {
   "cell_type": "code",
   "execution_count": 10,
   "metadata": {},
   "outputs": [
    {
     "data": {
      "text/html": [
       "<div>\n",
       "<style scoped>\n",
       "    .dataframe tbody tr th:only-of-type {\n",
       "        vertical-align: middle;\n",
       "    }\n",
       "\n",
       "    .dataframe tbody tr th {\n",
       "        vertical-align: top;\n",
       "    }\n",
       "\n",
       "    .dataframe thead th {\n",
       "        text-align: right;\n",
       "    }\n",
       "</style>\n",
       "<table border=\"1\" class=\"dataframe\">\n",
       "  <thead>\n",
       "    <tr style=\"text-align: right;\">\n",
       "      <th></th>\n",
       "      <th>date</th>\n",
       "      <th>calc_cons</th>\n",
       "      <th>id_meter</th>\n",
       "    </tr>\n",
       "  </thead>\n",
       "  <tbody>\n",
       "  </tbody>\n",
       "</table>\n",
       "</div>"
      ],
      "text/plain": [
       "Empty DataFrame\n",
       "Columns: [date, calc_cons, id_meter]\n",
       "Index: []"
      ]
     },
     "execution_count": 10,
     "metadata": {},
     "output_type": "execute_result"
    }
   ],
   "source": [
    "# show duplicate dates rows\n",
    "power_daily_df[power_daily_df.duplicated([\"date\"])]"
   ]
  },
  {
   "cell_type": "code",
   "execution_count": 11,
   "metadata": {},
   "outputs": [],
   "source": [
    "# # convert date column to datetime\n",
    "# power_daily_df[\"date\"] = pd.to_datetime(power_daily_df[\"date\"])\n",
    "# # set date column as index\n",
    "# power_daily_df.set_index(\"date\", inplace=True)"
   ]
  },
  {
   "cell_type": "code",
   "execution_count": 12,
   "metadata": {},
   "outputs": [],
   "source": [
    "# sort by date\n",
    "power_daily_df = power_daily_df.sort_values(by=\"date\")"
   ]
  },
  {
   "cell_type": "code",
   "execution_count": 13,
   "metadata": {},
   "outputs": [
    {
     "name": "stdout",
     "output_type": "stream",
     "text": [
      "<class 'pandas.core.frame.DataFrame'>\n",
      "RangeIndex: 4723 entries, 0 to 4722\n",
      "Data columns (total 3 columns):\n",
      " #   Column     Non-Null Count  Dtype         \n",
      "---  ------     --------------  -----         \n",
      " 0   date       4723 non-null   datetime64[ns]\n",
      " 1   calc_cons  4723 non-null   float64       \n",
      " 2   id_meter   4723 non-null   float64       \n",
      "dtypes: datetime64[ns](1), float64(2)\n",
      "memory usage: 110.8 KB\n"
     ]
    }
   ],
   "source": [
    "power_daily_df.info()"
   ]
  },
  {
   "cell_type": "code",
   "execution_count": 14,
   "metadata": {},
   "outputs": [
    {
     "data": {
      "text/html": [
       "<div>\n",
       "<style scoped>\n",
       "    .dataframe tbody tr th:only-of-type {\n",
       "        vertical-align: middle;\n",
       "    }\n",
       "\n",
       "    .dataframe tbody tr th {\n",
       "        vertical-align: top;\n",
       "    }\n",
       "\n",
       "    .dataframe thead th {\n",
       "        text-align: right;\n",
       "    }\n",
       "</style>\n",
       "<table border=\"1\" class=\"dataframe\">\n",
       "  <thead>\n",
       "    <tr style=\"text-align: right;\">\n",
       "      <th></th>\n",
       "      <th>date</th>\n",
       "      <th>calc_cons</th>\n",
       "      <th>id_meter</th>\n",
       "    </tr>\n",
       "  </thead>\n",
       "  <tbody>\n",
       "    <tr>\n",
       "      <th>count</th>\n",
       "      <td>4723</td>\n",
       "      <td>4723.000000</td>\n",
       "      <td>4723.000000</td>\n",
       "    </tr>\n",
       "    <tr>\n",
       "      <th>mean</th>\n",
       "      <td>2017-11-23 14:52:43.243700992</td>\n",
       "      <td>2.484713</td>\n",
       "      <td>5.001694</td>\n",
       "    </tr>\n",
       "    <tr>\n",
       "      <th>min</th>\n",
       "      <td>2011-06-01 00:00:00</td>\n",
       "      <td>0.000000</td>\n",
       "      <td>4.000000</td>\n",
       "    </tr>\n",
       "    <tr>\n",
       "      <th>25%</th>\n",
       "      <td>2014-08-24 12:00:00</td>\n",
       "      <td>1.171622</td>\n",
       "      <td>4.000000</td>\n",
       "    </tr>\n",
       "    <tr>\n",
       "      <th>50%</th>\n",
       "      <td>2017-11-17 00:00:00</td>\n",
       "      <td>2.673333</td>\n",
       "      <td>4.000000</td>\n",
       "    </tr>\n",
       "    <tr>\n",
       "      <th>75%</th>\n",
       "      <td>2021-02-09 12:00:00</td>\n",
       "      <td>3.414815</td>\n",
       "      <td>7.000000</td>\n",
       "    </tr>\n",
       "    <tr>\n",
       "      <th>max</th>\n",
       "      <td>2024-06-01 00:00:00</td>\n",
       "      <td>4.400000</td>\n",
       "      <td>7.000000</td>\n",
       "    </tr>\n",
       "    <tr>\n",
       "      <th>std</th>\n",
       "      <td>NaN</td>\n",
       "      <td>1.121699</td>\n",
       "      <td>1.229490</td>\n",
       "    </tr>\n",
       "  </tbody>\n",
       "</table>\n",
       "</div>"
      ],
      "text/plain": [
       "                                date    calc_cons     id_meter\n",
       "count                           4723  4723.000000  4723.000000\n",
       "mean   2017-11-23 14:52:43.243700992     2.484713     5.001694\n",
       "min              2011-06-01 00:00:00     0.000000     4.000000\n",
       "25%              2014-08-24 12:00:00     1.171622     4.000000\n",
       "50%              2017-11-17 00:00:00     2.673333     4.000000\n",
       "75%              2021-02-09 12:00:00     3.414815     7.000000\n",
       "max              2024-06-01 00:00:00     4.400000     7.000000\n",
       "std                              NaN     1.121699     1.229490"
      ]
     },
     "execution_count": 14,
     "metadata": {},
     "output_type": "execute_result"
    }
   ],
   "source": [
    "power_daily_df.describe()"
   ]
  },
  {
   "cell_type": "markdown",
   "metadata": {},
   "source": [
    "## Prepare the model"
   ]
  },
  {
   "cell_type": "code",
   "execution_count": 15,
   "metadata": {},
   "outputs": [],
   "source": [
    "# # subsample the data to hourly\n",
    "# gas_hourly_df = gas_daily_df.resample('h').mean()"
   ]
  },
  {
   "cell_type": "code",
   "execution_count": 16,
   "metadata": {},
   "outputs": [
    {
     "data": {
      "image/png": "[encoded data removed]",
      "text/plain": [
       "<Figure size 800x600 with 1 Axes>"
      ]
     },
     "metadata": {},
     "output_type": "display_data"
    },
    {
     "data": {
      "image/png": "[encoded data removed]",
      "text/plain": [
       "<Figure size 800x600 with 1 Axes>"
      ]
     },
     "metadata": {},
     "output_type": "display_data"
    }
   ],
   "source": [
    "# list with the column defined by position 1, 2 in the axis 1\n",
    "plot_cols = power_daily_df.columns[1:2]\n",
    "plot_features = power_daily_df[plot_cols]\n",
    "plot_features.index = power_daily_df.index\n",
    "_ = plot_features.plot(subplots=True)\n",
    "\n",
    "plot_features = power_daily_df[plot_cols][:168]\n",
    "plot_features.index = power_daily_df.index[:168]\n",
    "_ = plot_features.plot(subplots=True)"
   ]
  },
  {
   "cell_type": "markdown",
   "metadata": {},
   "source": [
    "## Featured ingeenering"
   ]
  },
  {
   "cell_type": "code",
   "execution_count": 17,
   "metadata": {},
   "outputs": [],
   "source": [
    "# convert time\n",
    "# convert date to seconds to made it more readable\n",
    "power_daily_df[\"date\"] = pd.to_datetime(power_daily_df[\"date\"])"
   ]
  },
  {
   "cell_type": "code",
   "execution_count": 18,
   "metadata": {},
   "outputs": [
    {
     "data": {
      "image/png": "[encoded data removed]",
      "text/plain": [
       "<Figure size 800x600 with 1 Axes>"
      ]
     },
     "metadata": {},
     "output_type": "display_data"
    }
   ],
   "source": [
    "# assuming daily, weekly, monthly, yearly perioditicity\n",
    "# daily\n",
    "power_daily_df[\"day\"] = power_daily_df[\"date\"].dt.day\n",
    "power_daily_df[\"month\"] = power_daily_df[\"date\"].dt.month\n",
    "power_daily_df[\"year\"] = power_daily_df[\"date\"].dt.year\n",
    "power_daily_df[\"dayofweek\"] = power_daily_df[\"date\"].dt.dayofweek\n",
    "power_daily_df[\"dayofyear\"] = power_daily_df[\"date\"].dt.dayofyear\n",
    "# power_daily_df[\"week\"] = power_daily_df[\"date\"].dt.week\n",
    "power_daily_df[\"quarter\"] = power_daily_df[\"date\"].dt.quarter\n",
    "\n",
    "# # weekly\n",
    "# power_daily_df[\"week\"] = power_daily_df[\"date\"].dt.week\n",
    "\n",
    "# monthly\n",
    "power_daily_df[\"month\"] = power_daily_df[\"date\"].dt.month\n",
    "\n",
    "# yearly\n",
    "power_daily_df[\"year\"] = power_daily_df[\"date\"].dt.year\n",
    "\n",
    "# show the first rows\n",
    "power_daily_df.head()\n",
    "\n",
    "# plot the data\n",
    "plt.plot(np.array(power_daily_df[\"date\"]), np.array(power_daily_df[\"calc_cons\"]))\n",
    "plt.xlabel(\"Date\")\n",
    "plt.ylabel(\"Consumption\")\n",
    "plt.title(\"Power consumption\")\n",
    "plt.show()\n",
    "\n",
    "# plt.plot(np.array(power_daily_df[\"day\"]), np.array(power_daily_df[\"calc_cons\"]))\n",
    "# plt.xlabel(\"Day\")\n",
    "# plt.ylabel(\"Consumption\")\n",
    "# plt.title(\"Power consumption\")\n",
    "# plt.show()"
   ]
  },
  {
   "cell_type": "code",
   "execution_count": 19,
   "metadata": {},
   "outputs": [
    {
     "data": {
      "text/plain": [
       "Text(0.5, 1.0, 'Time of day signal')"
      ]
     },
     "execution_count": 19,
     "metadata": {},
     "output_type": "execute_result"
    },
    {
     "data": {
      "image/png": "[encoded data removed]",
      "text/plain": [
       "<Figure size 800x600 with 1 Axes>"
      ]
     },
     "metadata": {},
     "output_type": "display_data"
    }
   ],
   "source": [
    "# using cosine and sine to encode the cyclical nature of time\n",
    "# day\n",
    "power_daily_df[\"day_sin\"] = np.sin(power_daily_df[\"day\"] * (2 * np.pi / 31))\n",
    "power_daily_df[\"day_cos\"] = np.cos(power_daily_df[\"day\"] * (2 * np.pi / 31))\n",
    "# month\n",
    "power_daily_df[\"month_sin\"] = np.sin(power_daily_df[\"month\"] * (2 * np.pi / 12))\n",
    "power_daily_df[\"month_cos\"] = np.cos(power_daily_df[\"month\"] * (2 * np.pi / 12))\n",
    "# year\n",
    "power_daily_df[\"year_sin\"] = np.sin(power_daily_df[\"year\"] * (2 * np.pi / 2021))\n",
    "power_daily_df[\"year_cos\"] = np.cos(power_daily_df[\"year\"] * (2 * np.pi / 2021))\n",
    "# dayofweek\n",
    "power_daily_df[\"dayofweek_sin\"] = np.sin(power_daily_df[\"dayofweek\"] * (2 * np.pi / 7))\n",
    "power_daily_df[\"dayofweek_cos\"] = np.cos(power_daily_df[\"dayofweek\"] * (2 * np.pi / 7))\n",
    "# dayofyear\n",
    "power_daily_df[\"dayofyear_sin\"] = np.sin(\n",
    "    power_daily_df[\"dayofyear\"] * (2 * np.pi / 366)\n",
    ")\n",
    "power_daily_df[\"dayofyear_cos\"] = np.cos(\n",
    "    power_daily_df[\"dayofyear\"] * (2 * np.pi / 366)\n",
    ")\n",
    "# quarter\n",
    "power_daily_df[\"quarter_sin\"] = np.sin(power_daily_df[\"quarter\"] * (2 * np.pi / 4))\n",
    "power_daily_df[\"quarter_cos\"] = np.cos(power_daily_df[\"quarter\"] * (2 * np.pi / 4))\n",
    "\n",
    "# # show the first rows\n",
    "power_daily_df.head()\n",
    "\n",
    "plt.plot(np.array(power_daily_df[\"day_sin\"])[:31])\n",
    "plt.plot(np.array(power_daily_df[\"day_cos\"])[:31])\n",
    "plt.xlabel(\"Time [days]\")\n",
    "plt.title(\"Time of day signal\")"
   ]
  },
  {
   "cell_type": "markdown",
   "metadata": {},
   "source": [
    "Fast Fourier Transform???\n",
    "\n",
    "This gives the model access to the most important frequency features. In this case you knew ahead of time which frequencies were important.\n",
    "\n",
    "If you don't have that information, you can determine which frequencies are important by extracting features with Fast Fourier Transform. To check the assumptions, here is the tf.signal.rfft of the temperature over time. Note the obvious peaks at frequencies near 1/year and 1/day:\n",
    "\n",
    "\n",
    "```python\n",
    "fft = tf.signal.rfft(df['T (degC)'])\n",
    "f_per_dataset = np.arange(0, len(fft))\n",
    "\n",
    "n_samples_h = len(df['T (degC)'])\n",
    "hours_per_year = 24*365.2524\n",
    "years_per_dataset = n_samples_h/(hours_per_year)\n",
    "\n",
    "f_per_year = f_per_dataset/years_per_dataset\n",
    "plt.step(f_per_year, np.abs(fft))\n",
    "plt.xscale('log')\n",
    "plt.ylim(0, 400000)\n",
    "plt.xlim([0.1, max(plt.xlim())])\n",
    "plt.xticks([1, 365.2524], labels=['1/Year', '1/day'])\n",
    "_ = plt.xlabel('Frequency (log scale)')\n",
    "```"
   ]
  },
  {
   "cell_type": "code",
   "execution_count": 20,
   "metadata": {},
   "outputs": [
    {
     "name": "stderr",
     "output_type": "stream",
     "text": [
      "2024-06-19 23:05:52.698652: E external/local_xla/xla/stream_executor/cuda/cuda_driver.cc:282] failed call to cuInit: CUDA_ERROR_NO_DEVICE: no CUDA-capable device is detected\n"
     ]
    },
    {
     "data": {
      "image/png": "[encoded data removed]",
      "text/plain": [
       "<Figure size 800x600 with 1 Axes>"
      ]
     },
     "metadata": {},
     "output_type": "display_data"
    }
   ],
   "source": [
    "fft = tf.signal.rfft(power_daily_df[\"calc_cons\"])\n",
    "f_per_dataset = np.arange(0, len(fft))\n",
    "\n",
    "n_samples_h = len(power_daily_df[\"calc_cons\"])\n",
    "hours_per_year = 24 * 365.2524\n",
    "years_per_dataset = n_samples_h / hours_per_year\n",
    "\n",
    "f_per_year = f_per_dataset / years_per_dataset\n",
    "plt.step(f_per_year, np.abs(fft))\n",
    "plt.xscale(\"log\")\n",
    "plt.ylim(0, 400000)\n",
    "plt.xlim([0.1, max(plt.xlim())])\n",
    "plt.xticks([1, 365.2524], labels=[\"1/Year\", \"1/day\"])\n",
    "_ = plt.xlabel(\"Frequency (log scale)\")\n"
   ]
  },
  {
   "cell_type": "code",
   "execution_count": 21,
   "metadata": {},
   "outputs": [],
   "source": [
    "column_indices = {name: i for i, name in enumerate(power_daily_df.columns)}\n",
    "\n",
    "n = len(power_daily_df)\n",
    "train_df = power_daily_df[0 : int(n * 0.7)]\n",
    "val_df = power_daily_df[int(n * 0.7) : int(n * 0.9)]\n",
    "test_df = power_daily_df[int(n * 0.9) :]\n",
    "\n",
    "num_features = power_daily_df.shape[1]"
   ]
  },
  {
   "cell_type": "code",
   "execution_count": 22,
   "metadata": {},
   "outputs": [
    {
     "name": "stdout",
     "output_type": "stream",
     "text": [
      "3306 708 709\n",
      "Number of features = 21\n"
     ]
    }
   ],
   "source": [
    "# Split the data\n",
    "# split the data into train, validation, and test set\n",
    "# train set is 70% of the data\n",
    "# validation set is 15% of the data\n",
    "# test set is 15% of the data\n",
    "\"\"\"\n",
    "You'll use a (70%, 20%, 10%) split for the training, validation, and test sets. Note the data is not being randomly shuffled before splitting. This is for two reasons:\n",
    "It ensures that chopping the data into windows of consecutive samples is still possible.\n",
    "It ensures that the validation/test results are more realistic, being evaluated on the data collected after the model was trained.\n",
    "\"\"\"\n",
    "n = len(power_daily_df)\n",
    "train_df = power_daily_df[0 : int(n * 0.7)]\n",
    "val_df = power_daily_df[int(n * 0.7) : int(n * 0.85)]\n",
    "test_df = power_daily_df[int(n * 0.85) :]\n",
    "# check the length of the data\n",
    "print(len(train_df), len(val_df), len(test_df))\n",
    "\n",
    "num_features = power_daily_df.shape[1]\n",
    "\n",
    "print(f\"Number of features = {num_features}\")"
   ]
  },
  {
   "cell_type": "markdown",
   "metadata": {},
   "source": [
    "A Large Comparison of Normalization Methods on Time Series\n",
    "https://www.sciencedirect.com/science/article/abs/pii/S2214579623000400\n",
    "https://link.springer.com/chapter/10.1007/978-3-031-11432-8_8\n",
    "Normalization is a mandatory preprocessing step in time series problems to guarantee similarity comparisons invariant to unexpected distortions in amplitude and offset. Such distortions are usual for most time series data. "
   ]
  },
  {
   "cell_type": "code",
   "execution_count": 23,
   "metadata": {},
   "outputs": [
    {
     "name": "stderr",
     "output_type": "stream",
     "text": [
      "/tmp/ipykernel_40883/1963666855.py:6: PerformanceWarning: Adding/subtracting object-dtype array to DatetimeArray not vectorized.\n",
      "  train_df = (train_df - train_mean) / train_std\n",
      "/tmp/ipykernel_40883/1963666855.py:7: PerformanceWarning: Adding/subtracting object-dtype array to DatetimeArray not vectorized.\n",
      "  val_df = (val_df - train_mean) / train_std\n",
      "/tmp/ipykernel_40883/1963666855.py:8: PerformanceWarning: Adding/subtracting object-dtype array to DatetimeArray not vectorized.\n",
      "  test_df = (test_df - train_mean) / train_std\n"
     ]
    },
    {
     "data": {
      "text/html": [
       "<div>\n",
       "<style scoped>\n",
       "    .dataframe tbody tr th:only-of-type {\n",
       "        vertical-align: middle;\n",
       "    }\n",
       "\n",
       "    .dataframe tbody tr th {\n",
       "        vertical-align: top;\n",
       "    }\n",
       "\n",
       "    .dataframe thead th {\n",
       "        text-align: right;\n",
       "    }\n",
       "</style>\n",
       "<table border=\"1\" class=\"dataframe\">\n",
       "  <thead>\n",
       "    <tr style=\"text-align: right;\">\n",
       "      <th></th>\n",
       "      <th>date</th>\n",
       "      <th>calc_cons</th>\n",
       "      <th>id_meter</th>\n",
       "      <th>day</th>\n",
       "      <th>month</th>\n",
       "      <th>year</th>\n",
       "      <th>dayofweek</th>\n",
       "      <th>dayofyear</th>\n",
       "      <th>quarter</th>\n",
       "      <th>day_sin</th>\n",
       "      <th>...</th>\n",
       "      <th>month_sin</th>\n",
       "      <th>month_cos</th>\n",
       "      <th>year_sin</th>\n",
       "      <th>year_cos</th>\n",
       "      <th>dayofweek_sin</th>\n",
       "      <th>dayofweek_cos</th>\n",
       "      <th>dayofyear_sin</th>\n",
       "      <th>dayofyear_cos</th>\n",
       "      <th>quarter_sin</th>\n",
       "      <th>quarter_cos</th>\n",
       "    </tr>\n",
       "  </thead>\n",
       "  <tbody>\n",
       "    <tr>\n",
       "      <th>0</th>\n",
       "      <td>-1.731265</td>\n",
       "      <td>-1.973336</td>\n",
       "      <td>1.332397</td>\n",
       "      <td>-1.670497</td>\n",
       "      <td>-0.150874</td>\n",
       "      <td>-1.678903</td>\n",
       "      <td>-0.499905</td>\n",
       "      <td>-0.294647</td>\n",
       "      <td>-0.453339</td>\n",
       "      <td>0.2767</td>\n",
       "      <td>...</td>\n",
       "      <td>0.006479</td>\n",
       "      <td>-1.397358</td>\n",
       "      <td>-1.678755</td>\n",
       "      <td>-2.063555</td>\n",
       "      <td>1.377888</td>\n",
       "      <td>-0.314177</td>\n",
       "      <td>0.715218</td>\n",
       "      <td>-1.206796</td>\n",
       "      <td>0.006439</td>\n",
       "      <td>-1.40507</td>\n",
       "    </tr>\n",
       "    <tr>\n",
       "      <th>1</th>\n",
       "      <td>-1.730217</td>\n",
       "      <td>1.733014</td>\n",
       "      <td>1.332397</td>\n",
       "      <td>-1.556848</td>\n",
       "      <td>-0.150874</td>\n",
       "      <td>-1.678903</td>\n",
       "      <td>0.000151</td>\n",
       "      <td>-0.285138</td>\n",
       "      <td>-0.453339</td>\n",
       "      <td>0.547421</td>\n",
       "      <td>...</td>\n",
       "      <td>0.006479</td>\n",
       "      <td>-1.397358</td>\n",
       "      <td>-1.678755</td>\n",
       "      <td>-2.063555</td>\n",
       "      <td>0.612883</td>\n",
       "      <td>-1.273543</td>\n",
       "      <td>0.694175</td>\n",
       "      <td>-1.218922</td>\n",
       "      <td>0.006439</td>\n",
       "      <td>-1.40507</td>\n",
       "    </tr>\n",
       "    <tr>\n",
       "      <th>2</th>\n",
       "      <td>-1.72917</td>\n",
       "      <td>1.733014</td>\n",
       "      <td>1.332397</td>\n",
       "      <td>-1.443199</td>\n",
       "      <td>-0.150874</td>\n",
       "      <td>-1.678903</td>\n",
       "      <td>0.500208</td>\n",
       "      <td>-0.275628</td>\n",
       "      <td>-0.453339</td>\n",
       "      <td>0.795502</td>\n",
       "      <td>...</td>\n",
       "      <td>0.006479</td>\n",
       "      <td>-1.397358</td>\n",
       "      <td>-1.678755</td>\n",
       "      <td>-2.063555</td>\n",
       "      <td>-0.614088</td>\n",
       "      <td>-1.273543</td>\n",
       "      <td>0.672926</td>\n",
       "      <td>-1.230685</td>\n",
       "      <td>0.006439</td>\n",
       "      <td>-1.40507</td>\n",
       "    </tr>\n",
       "    <tr>\n",
       "      <th>3</th>\n",
       "      <td>-1.728122</td>\n",
       "      <td>1.733014</td>\n",
       "      <td>1.332397</td>\n",
       "      <td>-1.32955</td>\n",
       "      <td>-0.150874</td>\n",
       "      <td>-1.678903</td>\n",
       "      <td>1.000265</td>\n",
       "      <td>-0.266118</td>\n",
       "      <td>-0.453339</td>\n",
       "      <td>1.010787</td>\n",
       "      <td>...</td>\n",
       "      <td>0.006479</td>\n",
       "      <td>-1.397358</td>\n",
       "      <td>-1.678755</td>\n",
       "      <td>-2.063555</td>\n",
       "      <td>-1.379093</td>\n",
       "      <td>-0.314177</td>\n",
       "      <td>0.651478</td>\n",
       "      <td>-1.242083</td>\n",
       "      <td>0.006439</td>\n",
       "      <td>-1.40507</td>\n",
       "    </tr>\n",
       "    <tr>\n",
       "      <th>4</th>\n",
       "      <td>-1.727074</td>\n",
       "      <td>1.733014</td>\n",
       "      <td>1.332397</td>\n",
       "      <td>-1.215901</td>\n",
       "      <td>-0.150874</td>\n",
       "      <td>-1.678903</td>\n",
       "      <td>1.500322</td>\n",
       "      <td>-0.256609</td>\n",
       "      <td>-0.453339</td>\n",
       "      <td>1.184462</td>\n",
       "      <td>...</td>\n",
       "      <td>0.006479</td>\n",
       "      <td>-1.397358</td>\n",
       "      <td>-1.678755</td>\n",
       "      <td>-2.063555</td>\n",
       "      <td>-1.106066</td>\n",
       "      <td>0.882132</td>\n",
       "      <td>0.629838</td>\n",
       "      <td>-1.253111</td>\n",
       "      <td>0.006439</td>\n",
       "      <td>-1.40507</td>\n",
       "    </tr>\n",
       "  </tbody>\n",
       "</table>\n",
       "<p>5 rows × 21 columns</p>\n",
       "</div>"
      ],
      "text/plain": [
       "       date calc_cons  id_meter       day     month      year dayofweek  \\\n",
       "0 -1.731265 -1.973336  1.332397 -1.670497 -0.150874 -1.678903 -0.499905   \n",
       "1 -1.730217  1.733014  1.332397 -1.556848 -0.150874 -1.678903  0.000151   \n",
       "2  -1.72917  1.733014  1.332397 -1.443199 -0.150874 -1.678903  0.500208   \n",
       "3 -1.728122  1.733014  1.332397  -1.32955 -0.150874 -1.678903  1.000265   \n",
       "4 -1.727074  1.733014  1.332397 -1.215901 -0.150874 -1.678903  1.500322   \n",
       "\n",
       "  dayofyear   quarter   day_sin  ... month_sin month_cos  year_sin  year_cos  \\\n",
       "0 -0.294647 -0.453339    0.2767  ...  0.006479 -1.397358 -1.678755 -2.063555   \n",
       "1 -0.285138 -0.453339  0.547421  ...  0.006479 -1.397358 -1.678755 -2.063555   \n",
       "2 -0.275628 -0.453339  0.795502  ...  0.006479 -1.397358 -1.678755 -2.063555   \n",
       "3 -0.266118 -0.453339  1.010787  ...  0.006479 -1.397358 -1.678755 -2.063555   \n",
       "4 -0.256609 -0.453339  1.184462  ...  0.006479 -1.397358 -1.678755 -2.063555   \n",
       "\n",
       "  dayofweek_sin dayofweek_cos dayofyear_sin dayofyear_cos quarter_sin  \\\n",
       "0      1.377888     -0.314177      0.715218     -1.206796    0.006439   \n",
       "1      0.612883     -1.273543      0.694175     -1.218922    0.006439   \n",
       "2     -0.614088     -1.273543      0.672926     -1.230685    0.006439   \n",
       "3     -1.379093     -0.314177      0.651478     -1.242083    0.006439   \n",
       "4     -1.106066      0.882132      0.629838     -1.253111    0.006439   \n",
       "\n",
       "  quarter_cos  \n",
       "0    -1.40507  \n",
       "1    -1.40507  \n",
       "2    -1.40507  \n",
       "3    -1.40507  \n",
       "4    -1.40507  \n",
       "\n",
       "[5 rows x 21 columns]"
      ]
     },
     "execution_count": 23,
     "metadata": {},
     "output_type": "execute_result"
    }
   ],
   "source": [
    "# Normalize the data\n",
    "# normalize the data using the mean and standard deviation of the training data\n",
    "train_mean = train_df.mean()\n",
    "train_std = train_df.std()\n",
    "\n",
    "train_df = (train_df - train_mean) / train_std\n",
    "val_df = (val_df - train_mean) / train_std\n",
    "test_df = (test_df - train_mean) / train_std\n",
    "\n",
    "# # show the first rows\n",
    "train_df.head()"
   ]
  },
  {
   "cell_type": "code",
   "execution_count": 24,
   "metadata": {},
   "outputs": [
    {
     "name": "stderr",
     "output_type": "stream",
     "text": [
      "/tmp/ipykernel_40883/464633000.py:1: PerformanceWarning: Adding/subtracting object-dtype array to DatetimeArray not vectorized.\n",
      "  df_std = (power_daily_df - train_mean) / train_std\n",
      "/tmp/ipykernel_40883/464633000.py:5: UserWarning: set_ticklabels() should only be used with a fixed number of ticks, i.e. after set_ticks() or using a FixedLocator.\n",
      "  _ = ax.set_xticklabels(power_daily_df.keys(), rotation=90)\n"
     ]
    },
    {
     "data": {
      "image/png": "[encoded data removed]",
      "text/plain": [
       "<Figure size 1200x600 with 1 Axes>"
      ]
     },
     "metadata": {},
     "output_type": "display_data"
    }
   ],
   "source": [
    "df_std = (power_daily_df - train_mean) / train_std\n",
    "df_std = df_std.melt(var_name=\"Column\", value_name=\"Normalized\")\n",
    "plt.figure(figsize=(12, 6))\n",
    "ax = sns.violinplot(x=\"Column\", y=\"Normalized\", data=df_std)\n",
    "_ = ax.set_xticklabels(power_daily_df.keys(), rotation=90)"
   ]
  },
  {
   "cell_type": "markdown",
   "metadata": {},
   "source": [
    "## Data windowing\n",
    "\n",
    "The models in this tutorial will make a set of predictions based on a window of consecutive samples from the data.\n",
    "\n",
    "The main features of the input windows are:\n",
    "\n",
    "- The width (number of time steps) of the input and label windows.\n",
    "- The time offset between them.\n",
    "- Which features are used as inputs, labels, or both.\n",
    "\n",
    "This tutorial builds a variety of models (including Linear, DNN, CNN and RNN models), and uses them for both:\n",
    "\n",
    "- Single-output, and multi-output predictions.\n",
    "- Single-time-step and multi-time-step predictions.\n",
    "\n",
    "This section focuses on implementing the data windowing so that it can be reused for all of those models."
   ]
  },
  {
   "cell_type": "markdown",
   "metadata": {},
   "source": [
    "The rest of this section defines a WindowGenerator class. This class can:\n",
    "\n",
    "1. Handle the indexes and offsets as shown in the diagrams above.\n",
    "2. Split windows of features into (features, labels) pairs.\n",
    "3. Plot the content of the resulting windows.\n",
    "4. Efficiently generate batches of these windows from the training, evaluation, and test data, using tf.data.Datasets.\n"
   ]
  },
  {
   "cell_type": "code",
   "execution_count": 25,
   "metadata": {},
   "outputs": [],
   "source": [
    "# Indexes and offsets\n",
    "\"\"\"\n",
    "Start by creating the WindowGenerator class. The __init__ method includes all the necessary logic for the input and label indices.\n",
    "It also takes the training, evaluation, and test DataFrames as input. These will be converted to tf.data.Datasets of windows later.\n",
    "\"\"\"\n",
    "\n",
    "\n",
    "class WindowGenerator:\n",
    "    def __init__(\n",
    "        self,\n",
    "        input_width,\n",
    "        label_width,\n",
    "        shift,\n",
    "        train_df=train_df,\n",
    "        val_df=val_df,\n",
    "        test_df=test_df,\n",
    "        label_columns=None,\n",
    "    ):\n",
    "        # Store the raw data.\n",
    "        self.train_df = train_df\n",
    "        self.val_df = val_df\n",
    "        self.test_df = test_df\n",
    "\n",
    "        # Work out the label column indices.\n",
    "        self.label_columns = label_columns\n",
    "        if label_columns is not None:\n",
    "            self.label_columns_indices = {\n",
    "                name: i for i, name in enumerate(label_columns)\n",
    "            }\n",
    "        self.column_indices = {name: i for i, name in enumerate(train_df.columns)}\n",
    "\n",
    "        # Work out the window parameters.\n",
    "        self.input_width = input_width\n",
    "        self.label_width = label_width\n",
    "        self.shift = shift\n",
    "\n",
    "        self.total_window_size = input_width + shift\n",
    "\n",
    "        self.input_slice = slice(0, input_width)\n",
    "        self.input_indices = np.arange(self.total_window_size)[self.input_slice]\n",
    "\n",
    "        self.label_start = self.total_window_size - self.label_width\n",
    "        self.labels_slice = slice(self.label_start, None)\n",
    "        self.label_indices = np.arange(self.total_window_size)[self.labels_slice]\n",
    "\n",
    "    def __repr__(self):\n",
    "        return \"\\n\".join(\n",
    "            [\n",
    "                f\"Total window size: {self.total_window_size}\",\n",
    "                f\"Input indices: {self.input_indices}\",\n",
    "                f\"Label indices: {self.label_indices}\",\n",
    "                f\"Label column name(s): {self.label_columns}\",\n",
    "            ]\n",
    "        )"
   ]
  },
  {
   "cell_type": "code",
   "execution_count": 26,
   "metadata": {},
   "outputs": [
    {
     "data": {
      "text/plain": [
       "Total window size: 48\n",
       "Input indices: [ 0  1  2  3  4  5  6  7  8  9 10 11 12 13 14 15 16 17 18 19 20 21 22 23]\n",
       "Label indices: [47]\n",
       "Label column name(s): ['calc_cons']"
      ]
     },
     "execution_count": 26,
     "metadata": {},
     "output_type": "execute_result"
    }
   ],
   "source": [
    "w1 = WindowGenerator(\n",
    "    input_width=24, label_width=1, shift=24, label_columns=[\"calc_cons\"]\n",
    ")\n",
    "w1"
   ]
  },
  {
   "cell_type": "code",
   "execution_count": 27,
   "metadata": {},
   "outputs": [
    {
     "data": {
      "text/plain": [
       "Total window size: 7\n",
       "Input indices: [0 1 2 3 4 5]\n",
       "Label indices: [6]\n",
       "Label column name(s): ['calc_cons']"
      ]
     },
     "execution_count": 27,
     "metadata": {},
     "output_type": "execute_result"
    }
   ],
   "source": [
    "w2 = WindowGenerator(input_width=6, label_width=1, shift=1, label_columns=[\"calc_cons\"])\n",
    "w2"
   ]
  },
  {
   "cell_type": "code",
   "execution_count": 28,
   "metadata": {},
   "outputs": [],
   "source": [
    "# Split into windows\n",
    "\"\"\"\n",
    "The WindowGenerator object can split the DataFrame into these sequences. The __init__ and split_window methods are for this purpose.\n",
    "The split_window method will convert a single DataFrame into a window of inputs and a window of labels.\n",
    "The example WindowGenerator w2 will be used to demonstrate the split.\n",
    "\"\"\"\n",
    "\n",
    "\n",
    "def split_window(self, features):\n",
    "    inputs = features[:, self.input_slice, :]\n",
    "    labels = features[:, self.labels_slice, :]\n",
    "    if self.label_columns is not None:\n",
    "        labels = tf.stack(\n",
    "            [labels[:, :, self.column_indices[name]] for name in self.label_columns],\n",
    "            axis=-1,\n",
    "        )\n",
    "\n",
    "    # Slicing doesn't preserve static shape information, so set the shapes manually.\n",
    "    inputs.set_shape([None, self.input_width, None])\n",
    "    labels.set_shape([None, self.label_width, None])\n",
    "\n",
    "    return inputs, labels"
   ]
  },
  {
   "cell_type": "code",
   "execution_count": 29,
   "metadata": {},
   "outputs": [],
   "source": [
    "WindowGenerator.split_window = split_window"
   ]
  },
  {
   "cell_type": "code",
   "execution_count": 30,
   "metadata": {},
   "outputs": [
    {
     "name": "stdout",
     "output_type": "stream",
     "text": [
      "All shapes are: (batch, time, features)\n",
      "Window shape: (3, 7, 21)\n",
      "Inputs shape: (3, 6, 21)\n",
      "labels shape: (3, 1, 1)\n"
     ]
    }
   ],
   "source": [
    "# Stack three slices, the length of the total window:\n",
    "example_window = tf.stack(\n",
    "    [\n",
    "        np.array(train_df[: w2.total_window_size]),\n",
    "        np.array(train_df[100 : 100 + w2.total_window_size]),\n",
    "        np.array(train_df[200 : 200 + w2.total_window_size]),\n",
    "    ]\n",
    ")\n",
    "\n",
    "example_inputs, example_labels = w2.split_window(example_window)\n",
    "\n",
    "print(\"All shapes are: (batch, time, features)\")\n",
    "print(f\"Window shape: {example_window.shape}\")\n",
    "print(f\"Inputs shape: {example_inputs.shape}\")\n",
    "print(f\"labels shape: {example_labels.shape}\")"
   ]
  },
  {
   "cell_type": "code",
   "execution_count": 31,
   "metadata": {},
   "outputs": [],
   "source": [
    "# Plot\n",
    "w2.example = example_inputs, example_labels"
   ]
  },
  {
   "cell_type": "code",
   "execution_count": 32,
   "metadata": {},
   "outputs": [],
   "source": [
    "def plot(self, model=None, plot_col=\"calc_cons\", max_subplots=3):\n",
    "    inputs, labels = self.example\n",
    "    plt.figure(figsize=(12, 8))\n",
    "    plot_col_index = self.column_indices[plot_col]\n",
    "    max_n = min(max_subplots, len(inputs))\n",
    "    for n in range(max_n):\n",
    "        plt.subplot(3, 1, n + 1)\n",
    "        plt.ylabel(f\"{plot_col} [normed]\")\n",
    "        plt.plot(\n",
    "            self.input_indices,\n",
    "            inputs[n, :, plot_col_index],\n",
    "            label=\"Inputs\",\n",
    "            marker=\".\",\n",
    "            zorder=-10,\n",
    "        )\n",
    "\n",
    "        if self.label_columns:\n",
    "            label_col_index = self.label_columns_indices.get(plot_col, None)\n",
    "        else:\n",
    "            label_col_index = plot_col_index\n",
    "\n",
    "        if label_col_index is None:\n",
    "            continue\n",
    "\n",
    "        plt.scatter(\n",
    "            self.label_indices,\n",
    "            labels[n, :, label_col_index],\n",
    "            edgecolors=\"k\",\n",
    "            label=\"Labels\",\n",
    "            c=\"#2ca02c\",\n",
    "            s=64,\n",
    "        )\n",
    "        if model is not None:\n",
    "            predictions = model(inputs)\n",
    "            plt.scatter(\n",
    "                self.label_indices,\n",
    "                predictions[n, :, label_col_index],\n",
    "                marker=\"X\",\n",
    "                edgecolors=\"k\",\n",
    "                label=\"Predictions\",\n",
    "                c=\"#ff7f0e\",\n",
    "                s=64,\n",
    "            )\n",
    "\n",
    "        if n == 0:\n",
    "            plt.legend()\n",
    "\n",
    "    plt.xlabel(\"Time [h]\")\n",
    "\n",
    "\n",
    "WindowGenerator.plot = plot"
   ]
  },
  {
   "cell_type": "code",
   "execution_count": 33,
   "metadata": {},
   "outputs": [
    {
     "data": {
      "image/png": "[encoded data removed]",
      "text/plain": [
       "<Figure size 1200x800 with 3 Axes>"
      ]
     },
     "metadata": {},
     "output_type": "display_data"
    }
   ],
   "source": [
    "w2.plot()"
   ]
  },
  {
   "cell_type": "code",
   "execution_count": 34,
   "metadata": {},
   "outputs": [],
   "source": [
    "# create tf.data.Dataset\n",
    "def make_dataset(self, data):\n",
    "    data = np.array(data, dtype=np.float32)\n",
    "    ds = tf.keras.preprocessing.timeseries_dataset_from_array(\n",
    "        data=data,\n",
    "        targets=None,\n",
    "        sequence_length=self.total_window_size,\n",
    "        sequence_stride=1,\n",
    "        shuffle=True,\n",
    "        batch_size=32,\n",
    "    )\n",
    "\n",
    "    ds = ds.map(self.split_window)\n",
    "\n",
    "    return ds\n",
    "\n",
    "\n",
    "WindowGenerator.make_dataset = make_dataset"
   ]
  },
  {
   "cell_type": "code",
   "execution_count": 35,
   "metadata": {},
   "outputs": [],
   "source": [
    "@property\n",
    "def train(self):\n",
    "    return self.make_dataset(self.train_df)\n",
    "\n",
    "\n",
    "@property\n",
    "def val(self):\n",
    "    return self.make_dataset(self.val_df)\n",
    "\n",
    "\n",
    "@property\n",
    "def test(self):\n",
    "    return self.make_dataset(self.test_df)\n",
    "\n",
    "\n",
    "@property\n",
    "def example(self):\n",
    "    \"\"\"Get and cache an example batch of `inputs, labels` for plotting.\"\"\"\n",
    "    result = getattr(self, \"_example\", None)\n",
    "    if result is None:\n",
    "        # No example batch was found, so get one from the `.train` dataset\n",
    "        result = next(iter(self.train))\n",
    "        # And cache it for next time\n",
    "        self._example = result\n",
    "    return result\n",
    "\n",
    "\n",
    "WindowGenerator.train = train\n",
    "WindowGenerator.val = val\n",
    "WindowGenerator.test = test\n",
    "WindowGenerator.example = example"
   ]
  },
  {
   "cell_type": "code",
   "execution_count": 36,
   "metadata": {},
   "outputs": [
    {
     "data": {
      "text/plain": [
       "(TensorSpec(shape=(None, 6, 21), dtype=tf.float32, name=None),\n",
       " TensorSpec(shape=(None, 1, 1), dtype=tf.float32, name=None))"
      ]
     },
     "execution_count": 36,
     "metadata": {},
     "output_type": "execute_result"
    }
   ],
   "source": [
    "# Each element is an (inputs, label) pair\n",
    "w2.train.element_spec"
   ]
  },
  {
   "cell_type": "code",
   "execution_count": 37,
   "metadata": {},
   "outputs": [
    {
     "name": "stdout",
     "output_type": "stream",
     "text": [
      "Inputs shape (batch, time, features): (32, 6, 21)\n",
      "Labels shape (batch, time, features): (32, 1, 1)\n"
     ]
    },
    {
     "name": "stderr",
     "output_type": "stream",
     "text": [
      "2024-06-19 23:06:49.391708: W tensorflow/core/framework/local_rendezvous.cc:404] Local rendezvous is aborting with status: OUT_OF_RANGE: End of sequence\n"
     ]
    }
   ],
   "source": [
    "# iterate over the dataset\n",
    "for example_inputs, example_labels in w2.train.take(1):\n",
    "    print(f\"Inputs shape (batch, time, features): {example_inputs.shape}\")\n",
    "    print(f\"Labels shape (batch, time, features): {example_labels.shape}\")"
   ]
  },
  {
   "cell_type": "code",
   "execution_count": 38,
   "metadata": {},
   "outputs": [
    {
     "data": {
      "text/plain": [
       "Total window size: 2\n",
       "Input indices: [0]\n",
       "Label indices: [1]\n",
       "Label column name(s): ['calc_cons']"
      ]
     },
     "execution_count": 38,
     "metadata": {},
     "output_type": "execute_result"
    }
   ],
   "source": [
    "single_step_window = WindowGenerator(\n",
    "    input_width=1, label_width=1, shift=1, label_columns=[\"calc_cons\"]\n",
    ")\n",
    "single_step_window"
   ]
  },
  {
   "cell_type": "code",
   "execution_count": 39,
   "metadata": {},
   "outputs": [
    {
     "name": "stdout",
     "output_type": "stream",
     "text": [
      "Inputs shape (batch, time, features): (32, 1, 21)\n",
      "Labels shape (batch, time, features): (32, 1, 1)\n"
     ]
    },
    {
     "name": "stderr",
     "output_type": "stream",
     "text": [
      "2024-06-19 23:06:54.592205: W tensorflow/core/framework/local_rendezvous.cc:404] Local rendezvous is aborting with status: OUT_OF_RANGE: End of sequence\n"
     ]
    }
   ],
   "source": [
    "for example_inputs, example_labels in single_step_window.train.take(1):\n",
    "    print(f\"Inputs shape (batch, time, features): {example_inputs.shape}\")\n",
    "    print(f\"Labels shape (batch, time, features): {example_labels.shape}\")"
   ]
  },
  {
   "cell_type": "markdown",
   "metadata": {},
   "source": [
    "## Baseline"
   ]
  },
  {
   "cell_type": "code",
   "execution_count": 40,
   "metadata": {},
   "outputs": [],
   "source": [
    "class Baseline(tf.keras.Model):\n",
    "    def __init__(self, label_index=None):\n",
    "        super().__init__()\n",
    "        self.label_index = label_index\n",
    "\n",
    "    def call(self, inputs):\n",
    "        if self.label_index is None:\n",
    "            return inputs\n",
    "        result = inputs[:, :, self.label_index]\n",
    "        return result[:, :, tf.newaxis]"
   ]
  },
  {
   "cell_type": "code",
   "execution_count": 41,
   "metadata": {},
   "outputs": [
    {
     "name": "stdout",
     "output_type": "stream",
     "text": [
      "\u001b[1m23/23\u001b[0m \u001b[32m━━━━━━━━━━━━━━━━━━━━\u001b[0m\u001b[37m\u001b[0m \u001b[1m0s\u001b[0m 2ms/step - loss: 0.0304 - mean_absolute_error: 0.0237      \n"
     ]
    }
   ],
   "source": [
    "# instantiate and evaluate the baseline model\n",
    "baseline = Baseline(label_index=column_indices[\"calc_cons\"])\n",
    "\n",
    "baseline.compile(\n",
    "    loss=tf.keras.losses.MeanSquaredError(), metrics=[tf.keras.metrics.MeanAbsoluteError()]\n",
    ")\n",
    "\n",
    "val_performance = {}\n",
    "performance = {}\n",
    "val_performance[\"Baseline\"] = baseline.evaluate(single_step_window.val, return_dict=True)\n",
    "performance[\"Baseline\"] = baseline.evaluate(single_step_window.test, verbose=0, return_dict=True)"
   ]
  },
  {
   "cell_type": "code",
   "execution_count": 42,
   "metadata": {},
   "outputs": [
    {
     "data": {
      "text/plain": [
       "Total window size: 25\n",
       "Input indices: [ 0  1  2  3  4  5  6  7  8  9 10 11 12 13 14 15 16 17 18 19 20 21 22 23]\n",
       "Label indices: [ 1  2  3  4  5  6  7  8  9 10 11 12 13 14 15 16 17 18 19 20 21 22 23 24]\n",
       "Label column name(s): ['calc_cons']"
      ]
     },
     "execution_count": 42,
     "metadata": {},
     "output_type": "execute_result"
    }
   ],
   "source": [
    "wide_window = WindowGenerator(\n",
    "    input_width=24, label_width=24, shift=1, label_columns=[\"calc_cons\"]\n",
    ")\n",
    "\n",
    "wide_window"
   ]
  },
  {
   "cell_type": "code",
   "execution_count": 43,
   "metadata": {},
   "outputs": [
    {
     "name": "stdout",
     "output_type": "stream",
     "text": [
      "Input shape: (32, 24, 21)\n",
      "Output shape: (32, 24, 1)\n"
     ]
    }
   ],
   "source": [
    "print(\"Input shape:\", wide_window.example[0].shape)\n",
    "print(\"Output shape:\", baseline(wide_window.example[0]).shape)"
   ]
  },
  {
   "cell_type": "code",
   "execution_count": 44,
   "metadata": {},
   "outputs": [
    {
     "data": {
      "image/png": "[encoded data removed]",
      "text/plain": [
       "<Figure size 1200x800 with 3 Axes>"
      ]
     },
     "metadata": {},
     "output_type": "display_data"
    }
   ],
   "source": [
    "wide_window.plot(baseline)"
   ]
  },
  {
   "cell_type": "code",
   "execution_count": 45,
   "metadata": {},
   "outputs": [],
   "source": [
    "linear = tf.keras.Sequential(\n",
    "    [\n",
    "        tf.keras.layers.Dense(units=1),\n",
    "    ]\n",
    ")"
   ]
  },
  {
   "cell_type": "code",
   "execution_count": 46,
   "metadata": {},
   "outputs": [
    {
     "name": "stdout",
     "output_type": "stream",
     "text": [
      "Input shape: (32, 1, 21)\n",
      "Output shape: (32, 1, 1)\n"
     ]
    }
   ],
   "source": [
    "print(\"Input shape:\", single_step_window.example[0].shape)\n",
    "print(\"Output shape:\", linear(single_step_window.example[0]).shape)"
   ]
  },
  {
   "cell_type": "code",
   "execution_count": 47,
   "metadata": {},
   "outputs": [
    {
     "ename": "ModuleNotFoundError",
     "evalue": "No module named 'tkinter'",
     "output_type": "error",
     "traceback": [
      "\u001b[0;31m---------------------------------------------------------------------------\u001b[0m",
      "\u001b[0;31mModuleNotFoundError\u001b[0m                       Traceback (most recent call last)",
      "Cell \u001b[0;32mIn[47], line 1\u001b[0m\n\u001b[0;32m----> 1\u001b[0m \u001b[38;5;28;01mfrom\u001b[39;00m \u001b[38;5;21;01mtkinter\u001b[39;00m\u001b[38;5;21;01m.\u001b[39;00m\u001b[38;5;21;01mtix\u001b[39;00m \u001b[38;5;28;01mimport\u001b[39;00m MAX\n\u001b[1;32m      4\u001b[0m MAX_EPOCHS \u001b[38;5;241m=\u001b[39m \u001b[38;5;241m20\u001b[39m\n\u001b[1;32m      6\u001b[0m \u001b[38;5;28;01mdef\u001b[39;00m \u001b[38;5;21mcompile_and_fit\u001b[39m(model, window, patience\u001b[38;5;241m=\u001b[39m\u001b[38;5;241m2\u001b[39m):\n",
      "\u001b[0;31mModuleNotFoundError\u001b[0m: No module named 'tkinter'"
     ]
    }
   ],
   "source": [
    "from tkinter.tix import MAX\n",
    "\n",
    "\n",
    "MAX_EPOCHS = 20\n",
    "\n",
    "def compile_and_fit(model, window, patience=2):\n",
    "    early_stopping = tf.keras.callbacks.EarlyStopping(\n",
    "        monitor=\"val_loss\", patience=patience, mode=\"min\"\n",
    "    )\n",
    "\n",
    "    model.compile(\n",
    "        loss=tf.losses.MeanSquaredError(),\n",
    "        optimizer=tf.optimizers.Adam(),\n",
    "        metrics=[tf.metrics.MeanAbsoluteError()],\n",
    "    )\n",
    "\n",
    "    history = model.fit(\n",
    "        window.train,\n",
    "        epochs=MAX_EPOCHS,\n",
    "        validation_data=window.val,\n",
    "        callbacks=[early_stopping],\n",
    "    )\n",
    "    return history"
   ]
  }
 ],
 "metadata": {
  "kernelspec": {
   "display_name": ".venv",
   "language": "python",
   "name": "python3"
  },
  "language_info": {
   "codemirror_mode": {
    "name": "ipython",
    "version": 3
   },
   "file_extension": ".py",
   "mimetype": "text/x-python",
   "name": "python",
   "nbconvert_exporter": "python",
   "pygments_lexer": "ipython3",
   "version": "3.10.12"
  }
 },
 "nbformat": 4,
 "nbformat_minor": 2
}
