{
 "cells": [
  {
   "cell_type": "markdown",
   "metadata": {},
   "source": [
    "# Forecast Consumption\n",
    "\n",
    "Forecasting using timeseries model the consumption of water, gas and electricity.\n",
    "\n"
   ]
  },
  {
   "cell_type": "code",
   "execution_count": 1,
   "metadata": {},
   "outputs": [
    {
     "name": "stdout",
     "output_type": "stream",
     "text": [
      "Index(['date', 'id_meter', 'gas_m3', 'calc_cons'], dtype='object')\n"
     ]
    }
   ],
   "source": [
    "from pathlib import Path\n",
    "import pandas as pd\n",
    "\n",
    "\n",
    "\n",
    "# function to read the data\n",
    "def read_data_csv_df(directory: str, filename: str) -> pd.DataFrame:\n",
    "    path=Path.cwd().parents[0]\n",
    "    try:\n",
    "        df = pd.read_csv(path.joinpath(directory,filename))\n",
    "        return df\n",
    "    except FileNotFoundError:\n",
    "        print(f\"File {filename} not found\")\n",
    "        print(\"Please verify the file name and try again, and path\")\n",
    "        exit()\n",
    "\n",
    "df = read_data_csv_df(\"data_storage\", \"resampled_data_D_gas.csv\")\n",
    "\n",
    "\n",
    "# \"data_storage\", \"resampled_data_D_gas.csv\"\n",
    "\n",
    "# df = pd.read_csv(path.joinpath(\"data_storage\",\"resampled_data_D_gas.csv\"))\n",
    "# df.columns\n",
    "print(df.columns)\n"
   ]
  },
  {
   "cell_type": "markdown",
   "metadata": {},
   "source": [
    "## Preparing the data"
   ]
  },
  {
   "cell_type": "code",
   "execution_count": 78,
   "metadata": {},
   "outputs": [],
   "source": [
    "# Import the necessary libraries\n",
    "import sys\n",
    "import pandas as pd\n",
    "\n",
    "# sys.path.append('../../')\n",
    "# from core.settings import gas_monthly_df\n"
   ]
  },
  {
   "cell_type": "code",
   "execution_count": 79,
   "metadata": {},
   "outputs": [],
   "source": [
    "# variables\n",
    "from os import path\n",
    "\n",
    "\n",
    "gas_daily_df = pd.read_csv(r\"/home/cyat/projects/CATY_Management/data_storage/resampled_data_D_gas.csv\")\n"
   ]
  },
  {
   "cell_type": "code",
   "execution_count": 80,
   "metadata": {},
   "outputs": [
    {
     "name": "stdout",
     "output_type": "stream",
     "text": [
      "<class 'pandas.core.frame.DataFrame'>\n",
      "RangeIndex: 4779 entries, 0 to 4778\n",
      "Data columns (total 4 columns):\n",
      " #   Column     Non-Null Count  Dtype  \n",
      "---  ------     --------------  -----  \n",
      " 0   date       4779 non-null   object \n",
      " 1   id_meter   4779 non-null   float64\n",
      " 2   gas_m3     4779 non-null   float64\n",
      " 3   calc_cons  4777 non-null   float64\n",
      "dtypes: float64(3), object(1)\n",
      "memory usage: 149.5+ KB\n"
     ]
    }
   ],
   "source": [
    "gas_daily_df.info()\n",
    "# gas_monthly_df.describe()"
   ]
  },
  {
   "cell_type": "code",
   "execution_count": 81,
   "metadata": {},
   "outputs": [
    {
     "name": "stdout",
     "output_type": "stream",
     "text": [
      "         date  id_meter        gas_m3  calc_cons\n",
      "0  2014-09-04       1.0  38911.506000        NaN\n",
      "1  2014-09-05       1.0  38912.741875   1.235875\n",
      "2  2014-09-06       1.0  38913.977750   1.235875\n",
      "3  2014-09-07       1.0  38915.213625   1.235875\n",
      "4  2014-09-08       1.0  38916.449500   1.235875\n",
      "<class 'pandas.core.frame.DataFrame'>\n",
      "RangeIndex: 4750 entries, 0 to 4749\n",
      "Data columns (total 4 columns):\n",
      " #   Column     Non-Null Count  Dtype  \n",
      "---  ------     --------------  -----  \n",
      " 0   date       4750 non-null   object \n",
      " 1   id_meter   4750 non-null   float64\n",
      " 2   gas_m3     4750 non-null   float64\n",
      " 3   calc_cons  4750 non-null   float64\n",
      "dtypes: float64(3), object(1)\n",
      "memory usage: 148.6+ KB\n"
     ]
    }
   ],
   "source": [
    "print(gas_daily_df.head())\n",
    "# Dealing with missing values\n",
    "# # show NaN values rows\n",
    "# gas_monthly_df[gas_monthly_df.isnull().any(axis=1)]\n",
    "\n",
    "# # show duplicate rows\n",
    "# gas_monthly_df[gas_monthly_df.duplicated()]\n",
    "\n",
    "# # show rows for date 2014-09-04\n",
    "# gas_monthly_df[gas_monthly_df['date'] == '2014-09-04']\n",
    "\n",
    "# agregate by date\n",
    "gas_daily_df = gas_daily_df.groupby('date').agg('sum').reset_index()\n",
    "\n",
    "\n",
    "# fill row 0 NaN value with 0\n",
    "gas_daily_df = gas_daily_df.fillna(0, inplace=False)\n",
    "\n",
    "# # show duplicate dates rows\n",
    "# gas_monthly_df[gas_monthly_df.duplicated(['date'])]\n",
    "\n",
    "# # # drop duplicate dates rows\n",
    "# # gas_monthly_df.drop_duplicates(subset=['date'], inplace=False)\n",
    "\n",
    "gas_daily_df.info()\n",
    "\n",
    "# # verify that there are not missing dates in the data\n",
    "# gas_monthly_df['date'] = pd.to_datetime(gas_monthly_df['date'])\n",
    "# gas_monthly_df['date'].diff().dt.days\n",
    "\n",
    "\n",
    "\n"
   ]
  },
  {
   "cell_type": "code",
   "execution_count": 82,
   "metadata": {},
   "outputs": [
    {
     "name": "stdout",
     "output_type": "stream",
     "text": [
      "<class 'pandas.core.frame.DataFrame'>\n",
      "RangeIndex: 4750 entries, 0 to 4749\n",
      "Data columns (total 2 columns):\n",
      " #   Column     Non-Null Count  Dtype  \n",
      "---  ------     --------------  -----  \n",
      " 0   date       4750 non-null   object \n",
      " 1   calc_cons  4750 non-null   float64\n",
      "dtypes: float64(1), object(1)\n",
      "memory usage: 74.3+ KB\n"
     ]
    }
   ],
   "source": [
    "# drop columns not columns 1 to 3\n",
    "gas_daily_df = gas_daily_df.drop(gas_daily_df.columns[1:3], axis=1, inplace=False)\n",
    "\n",
    "gas_daily_df.info()\n"
   ]
  },
  {
   "cell_type": "code",
   "execution_count": null,
   "metadata": {},
   "outputs": [],
   "source": []
  },
  {
   "cell_type": "markdown",
   "metadata": {},
   "source": [
    "## Prepare the model"
   ]
  }
 ],
 "metadata": {
  "kernelspec": {
   "display_name": ".venv",
   "language": "python",
   "name": "python3"
  },
  "language_info": {
   "codemirror_mode": {
    "name": "ipython",
    "version": 3
   },
   "file_extension": ".py",
   "mimetype": "text/x-python",
   "name": "python",
   "nbconvert_exporter": "python",
   "pygments_lexer": "ipython3",
   "version": "3.10.12"
  }
 },
 "nbformat": 4,
 "nbformat_minor": 2
}
