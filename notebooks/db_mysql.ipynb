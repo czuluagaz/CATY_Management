{
 "cells": [
  {
   "cell_type": "markdown",
   "metadata": {},
   "source": [
    "# Connect ot MYSQL DB Caty\n",
    "\n",
    "MYSQL db is located in ../../DB/caty_sql or \"/home/cyat/projects/CATY_Management/DB/caty_sql\""
   ]
  },
  {
   "cell_type": "code",
   "execution_count": 41,
   "metadata": {},
   "outputs": [],
   "source": [
    "# import libraries\n",
    "import sys\n",
    "import sqlite3\n",
    "\n",
    "sys.path.append(\"../../\")\n",
    "from core.settings import *\n",
    "\n"
   ]
  },
  {
   "cell_type": "code",
   "execution_count": 50,
   "metadata": {},
   "outputs": [],
   "source": [
    "# connect to CATY database located at \"/home/cyat/projects/CATY_Management/DB/caty_sql\"\n",
    "# create a cursor object using the cursor() method\n",
    "# execute an SQL query using the execute() method\n",
    "# fetch the data returned using the fetchall() method\n",
    "# print the data\n",
    "\n",
    "class CatyDB:\n",
    "    def __init__(self):\n",
    "        self.db = None\n",
    "        self.cursor = None\n",
    "        self.connect()\n",
    "\n",
    "    def connect(self):\n",
    "        \n",
    "        self.db = sqlite3.connect(db_path)\n",
    "        self.cursor = self.db.cursor()\n",
    "\n",
    "    def execute(self, query: str) -> list:\n",
    "        self.cursor.execute(query)\n",
    "        return self.cursor.fetchall()\n",
    "\n",
    "    def close(self)-> None:\n",
    "        self.db.close()\n",
    "\n",
    "    def __del__(self)-> None:\n",
    "        self.close()\n",
    "\n",
    "    def get_all(self, table_name: str) -> list:\n",
    "        return self.execute(f\"SELECT * FROM {table_name}\")\n",
    "\n",
    "    def get_by_table_column(self, table_name: str, column_name: str, id: str) -> list:\n",
    "        return self.execute(f\"SELECT * FROM {table_name} WHERE {column_name} = {id}\")\n",
    "    \n",
    "    def get_by_table_column_method(self, table_name: str, column_name: str, method: str, id: str) -> list:\n",
    "        return self.execute(f\"SELECT * FROM {table_name} WHERE {column_name} {method} {id}\")\n",
    "    \n",
    "    def get_by_table_column_method_and(self, table_name: str, column_name: str, method: str, id: str, column_name2: str, method2: str, id2: str) -> list:\n",
    "        return self.execute(f\"SELECT * FROM {table_name} WHERE {column_name} {method} {id} AND {column_name2} {method2} {id2}\")\n"
   ]
  },
  {
   "cell_type": "code",
   "execution_count": 52,
   "metadata": {},
   "outputs": [
    {
     "name": "stdout",
     "output_type": "stream",
     "text": [
      "[(1, '2024-05-09 21:31', 123, 'TRUE', 'Gas', '2014-08-01 16:00', None, 1, 2, 'gas beyne', 'm3', None), (2, '2024-05-09 21:31', 123, 'TRUE', 'Water', '2014-08-01 16:00', '2019-02-20 10:00', 2, 2, 'water beyne', 'm3', None), (3, '2024-05-09 21:31', 123, 'TRUE', 'Water', '2019-02-20 10:00', None, 2, 2, 'water beyne', 'm3', None), (4, '2024-05-09 21:31', 123, 'TRUE', 'Power', '2014-08-01 16:00', '2021-05-05 10:00', 3, 2, 'power beyne', 'kwh', None), (5, '2024-05-09 21:31', 123, 'TRUE', 'Power', '2021-05-05 10:00', None, 3, 2, 'power beyne', 'kwh', None), (6, '2024-05-14 21:10', 123, 'TRUE', 'Water', '2011-05-01 8:00', '2014-08-01 16:00', 6, 1, 'water wanze', 'm3', None), (7, '2024-05-14 21:10', 123, 'TRUE', 'Power', '2011-05-01 8:00', '2014-08-01 16:00', 7, 1, 'power wanze', 'kwh', None), (8, '2024-05-14 21:10', 123, 'TRUE', 'Gas', '2011-05-01 8:00', '2014-08-01 16:00', 8, 1, 'gas wanze', 'm3', None)]\n",
      "[(1, 'Apto wanze', 50.530263980087064, 5.21487404385049, '4 Rue Gosuin', 'Wanze', 4520, 'BE', '01/04/2011', '30/09/2014', 'Apartment', 'main house', '9/05/2024 20:17', 'D', 1, 105)]\n"
     ]
    }
   ],
   "source": [
    "caty_db = CatyDB()\n",
    "print(caty_db.get_all(\"meters\"))\n",
    "print(caty_db.get_by_table_column_method(\"site\", \"id_site\", \"=\",1))"
   ]
  }
 ],
 "metadata": {
  "kernelspec": {
   "display_name": ".venv",
   "language": "python",
   "name": "python3"
  },
  "language_info": {
   "codemirror_mode": {
    "name": "ipython",
    "version": 3
   },
   "file_extension": ".py",
   "mimetype": "text/x-python",
   "name": "python",
   "nbconvert_exporter": "python",
   "pygments_lexer": "ipython3",
   "version": "3.10.12"
  }
 },
 "nbformat": 4,
 "nbformat_minor": 2
}
