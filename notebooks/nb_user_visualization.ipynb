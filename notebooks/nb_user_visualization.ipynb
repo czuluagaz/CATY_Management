{
 "cells": [
  {
   "cell_type": "markdown",
   "metadata": {},
   "source": [
    "# Create a streamlit flow to visualize the data"
   ]
  },
  {
   "cell_type": "code",
   "execution_count": 9,
   "metadata": {},
   "outputs": [],
   "source": [
    "# import libraries\n",
    "import sys\n",
    "import numpy as np\n",
    "import pandas as pd\n",
    "import streamlit as st\n",
    "\n",
    "\n",
    "sys.path.append('../')\n",
    "# import data"
   ]
  },
  {
   "cell_type": "code",
   "execution_count": 10,
   "metadata": {},
   "outputs": [],
   "source": [
    "# Variables\n",
    "water = pd.read_csv('../data_storage/resampled_data_D_gas.csv')\n",
    "gas = pd.read_csv('../data_storage/resampled_data_D_gas.csv')\n",
    "power= pd.read_csv('../data_storage/resampled_data_D_power.csv')\n"
   ]
  },
  {
   "cell_type": "code",
   "execution_count": 15,
   "metadata": {},
   "outputs": [
    {
     "data": {
      "text/html": [
       "<div>\n",
       "<style scoped>\n",
       "    .dataframe tbody tr th:only-of-type {\n",
       "        vertical-align: middle;\n",
       "    }\n",
       "\n",
       "    .dataframe tbody tr th {\n",
       "        vertical-align: top;\n",
       "    }\n",
       "\n",
       "    .dataframe thead th {\n",
       "        text-align: right;\n",
       "    }\n",
       "</style>\n",
       "<table border=\"1\" class=\"dataframe\">\n",
       "  <thead>\n",
       "    <tr style=\"text-align: right;\">\n",
       "      <th></th>\n",
       "      <th>date</th>\n",
       "      <th>id_meter</th>\n",
       "      <th>gas_m3</th>\n",
       "      <th>calc_cons</th>\n",
       "    </tr>\n",
       "  </thead>\n",
       "  <tbody>\n",
       "    <tr>\n",
       "      <th>0</th>\n",
       "      <td>2014-09-04</td>\n",
       "      <td>1.0</td>\n",
       "      <td>38911.506000</td>\n",
       "      <td>NaN</td>\n",
       "    </tr>\n",
       "    <tr>\n",
       "      <th>1</th>\n",
       "      <td>2014-09-05</td>\n",
       "      <td>1.0</td>\n",
       "      <td>38912.741875</td>\n",
       "      <td>1.235875</td>\n",
       "    </tr>\n",
       "    <tr>\n",
       "      <th>2</th>\n",
       "      <td>2014-09-06</td>\n",
       "      <td>1.0</td>\n",
       "      <td>38913.977750</td>\n",
       "      <td>1.235875</td>\n",
       "    </tr>\n",
       "    <tr>\n",
       "      <th>3</th>\n",
       "      <td>2014-09-07</td>\n",
       "      <td>1.0</td>\n",
       "      <td>38915.213625</td>\n",
       "      <td>1.235875</td>\n",
       "    </tr>\n",
       "    <tr>\n",
       "      <th>4</th>\n",
       "      <td>2014-09-08</td>\n",
       "      <td>1.0</td>\n",
       "      <td>38916.449500</td>\n",
       "      <td>1.235875</td>\n",
       "    </tr>\n",
       "    <tr>\n",
       "      <th>...</th>\n",
       "      <td>...</td>\n",
       "      <td>...</td>\n",
       "      <td>...</td>\n",
       "      <td>...</td>\n",
       "    </tr>\n",
       "    <tr>\n",
       "      <th>4774</th>\n",
       "      <td>2014-09-28</td>\n",
       "      <td>8.0</td>\n",
       "      <td>1640.652317</td>\n",
       "      <td>1.954171</td>\n",
       "    </tr>\n",
       "    <tr>\n",
       "      <th>4775</th>\n",
       "      <td>2014-09-29</td>\n",
       "      <td>8.0</td>\n",
       "      <td>1642.606487</td>\n",
       "      <td>1.954171</td>\n",
       "    </tr>\n",
       "    <tr>\n",
       "      <th>4776</th>\n",
       "      <td>2014-09-30</td>\n",
       "      <td>8.0</td>\n",
       "      <td>1644.560658</td>\n",
       "      <td>1.954171</td>\n",
       "    </tr>\n",
       "    <tr>\n",
       "      <th>4777</th>\n",
       "      <td>2014-10-01</td>\n",
       "      <td>8.0</td>\n",
       "      <td>1646.514829</td>\n",
       "      <td>1.954171</td>\n",
       "    </tr>\n",
       "    <tr>\n",
       "      <th>4778</th>\n",
       "      <td>2014-10-02</td>\n",
       "      <td>8.0</td>\n",
       "      <td>1648.469000</td>\n",
       "      <td>1.954171</td>\n",
       "    </tr>\n",
       "  </tbody>\n",
       "</table>\n",
       "<p>4779 rows × 4 columns</p>\n",
       "</div>"
      ],
      "text/plain": [
       "            date  id_meter        gas_m3  calc_cons\n",
       "0     2014-09-04       1.0  38911.506000        NaN\n",
       "1     2014-09-05       1.0  38912.741875   1.235875\n",
       "2     2014-09-06       1.0  38913.977750   1.235875\n",
       "3     2014-09-07       1.0  38915.213625   1.235875\n",
       "4     2014-09-08       1.0  38916.449500   1.235875\n",
       "...          ...       ...           ...        ...\n",
       "4774  2014-09-28       8.0   1640.652317   1.954171\n",
       "4775  2014-09-29       8.0   1642.606487   1.954171\n",
       "4776  2014-09-30       8.0   1644.560658   1.954171\n",
       "4777  2014-10-01       8.0   1646.514829   1.954171\n",
       "4778  2014-10-02       8.0   1648.469000   1.954171\n",
       "\n",
       "[4779 rows x 4 columns]"
      ]
     },
     "execution_count": 15,
     "metadata": {},
     "output_type": "execute_result"
    }
   ],
   "source": [
    "water"
   ]
  },
  {
   "cell_type": "markdown",
   "metadata": {},
   "source": []
  },
  {
   "cell_type": "markdown",
   "metadata": {},
   "source": [
    "## Home"
   ]
  },
  {
   "cell_type": "code",
   "execution_count": null,
   "metadata": {},
   "outputs": [],
   "source": []
  },
  {
   "cell_type": "markdown",
   "metadata": {},
   "source": [
    "## Sites"
   ]
  },
  {
   "cell_type": "code",
   "execution_count": 17,
   "metadata": {},
   "outputs": [
    {
     "data": {
      "text/plain": [
       "DeltaGenerator()"
      ]
     },
     "execution_count": 17,
     "metadata": {},
     "output_type": "execute_result"
    }
   ],
   "source": [
    "st.title(\"\"\"#Data Utilities\"\"\")\n",
    "st.write('This is a simple web app that allows you to view and manipulate the data')\n",
    "st.line_chart(water['calc_cons'])\n",
    "    "
   ]
  }
 ],
 "metadata": {
  "kernelspec": {
   "display_name": ".venv",
   "language": "python",
   "name": "python3"
  },
  "language_info": {
   "codemirror_mode": {
    "name": "ipython",
    "version": 3
   },
   "file_extension": ".py",
   "mimetype": "text/x-python",
   "name": "python",
   "nbconvert_exporter": "python",
   "pygments_lexer": "ipython3",
   "version": "3.10.12"
  }
 },
 "nbformat": 4,
 "nbformat_minor": 2
}
