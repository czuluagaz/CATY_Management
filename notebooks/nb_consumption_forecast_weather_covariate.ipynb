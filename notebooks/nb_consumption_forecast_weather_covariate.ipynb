{
 "cells": [
  {
   "cell_type": "markdown",
   "metadata": {},
   "source": [
    "# Weather as a Covariate for utilities consumption model"
   ]
  },
  {
   "cell_type": "markdown",
   "metadata": {},
   "source": [
    "To consider:\n",
    "- bright\n",
    "- how many hours of dark (it would affect electricity consumption)\n",
    "- external temperature\n",
    "- hoy many hours of birght and shiny sun\n",
    "- Humidity\n",
    "- for the consumption covariate, time should be interpolated to 1/3 hours interval to match weather historic/forecast data, is it worthy? since the electrical consmption would never be follow by hours"
   ]
  },
  {
   "cell_type": "code",
   "execution_count": null,
   "metadata": {},
   "outputs": [],
   "source": [
    " "
   ]
  }
 ],
 "metadata": {
  "language_info": {
   "name": "python"
  }
 },
 "nbformat": 4,
 "nbformat_minor": 2
}
