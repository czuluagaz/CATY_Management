{
 "cells": [
  {
   "cell_type": "markdown",
   "metadata": {},
   "source": [
    "# Data preprocessing"
   ]
  },
  {
   "cell_type": "code",
   "execution_count": 7,
   "metadata": {},
   "outputs": [],
   "source": [
    "# import area\n",
    "import pandas as pd\n",
    "import os\n"
   ]
  },
  {
   "cell_type": "code",
   "execution_count": 6,
   "metadata": {},
   "outputs": [],
   "source": [
    "import os\n",
    "import pandas as pd\n",
    "# create dataframes using Path.cwd() to get the current working directory\n",
    "# and os.path.join to join the current working directory with the file name to create the path\n",
    "# and pd.read_csv to read the csv file and creat\n",
    "# Get the current working directory\n",
    "cwd = os.getcwd()\n",
    "\n",
    "# Define the file path\n",
    "file_path = os.path.join(cwd, 'gas.csv')\n",
    "\n",
    "# Read the CSV file into a dataframe\n",
    "gas = pd.read_csv(file_path)\n",
    "power = pd.read_csv(os.path.join(cwd, 'power.csv'))\n",
    "water = pd.read_csv(os.path.join(cwd, 'water.csv'))\n"
   ]
  },
  {
   "cell_type": "markdown",
   "metadata": {},
   "source": [
    "# Exploratory for water"
   ]
  },
  {
   "cell_type": "code",
   "execution_count": 12,
   "metadata": {},
   "outputs": [
    {
     "name": "stdout",
     "output_type": "stream",
     "text": [
      "             days        cons      av_day  days_month   days_cons  \\\n",
      "count  123.000000  123.000000  182.000000  192.000000  192.000000   \n",
      "mean    30.853659   10.192780    0.270124   30.453125   24.192708   \n",
      "std     29.025055   15.932932    0.106032    0.771135   10.301189   \n",
      "min      0.000000    0.000000    0.000000   28.000000    2.000000   \n",
      "25%     16.000000    4.661500    0.246865   30.000000   18.750000   \n",
      "50%     29.000000    8.002000    0.276644   31.000000   30.000000   \n",
      "75%     31.000000    9.528000    0.312021   31.000000   31.000000   \n",
      "max    200.000000  108.000000    0.821467   31.000000   31.000000   \n",
      "\n",
      "       missing_days   calc_cons   diff_cons  cons_month  \n",
      "count    192.000000  182.000000  123.000000  182.000000  \n",
      "mean       6.260417    8.175928    1.670592    8.218311  \n",
      "std       10.216243    3.158706   15.879453    3.232844  \n",
      "min        0.000000    0.000000  -13.143467    0.000000  \n",
      "25%        0.000000    7.378803   -3.200462    7.349209  \n",
      "50%        0.000000    8.337174   -0.445041    8.371364  \n",
      "75%       11.250000    9.581518    0.351568    9.581518  \n",
      "max       29.000000   25.465467   99.869713   25.465467  \n",
      "<class 'pandas.core.frame.DataFrame'>\n",
      "RangeIndex: 192 entries, 0 to 191\n",
      "Data columns (total 12 columns):\n",
      " #   Column        Non-Null Count  Dtype  \n",
      "---  ------        --------------  -----  \n",
      " 0   date_eom      192 non-null    object \n",
      " 1   date          192 non-null    object \n",
      " 2   days          123 non-null    float64\n",
      " 3   water_m3      122 non-null    object \n",
      " 4   cons          123 non-null    float64\n",
      " 5   av_day        182 non-null    float64\n",
      " 6   days_month    192 non-null    int64  \n",
      " 7   days_cons     192 non-null    int64  \n",
      " 8   missing_days  192 non-null    int64  \n",
      " 9   calc_cons     182 non-null    float64\n",
      " 10  diff_cons     123 non-null    float64\n",
      " 11  cons_month    182 non-null    float64\n",
      "dtypes: float64(6), int64(3), object(3)\n",
      "memory usage: 18.1+ KB\n",
      "None\n",
      "     date_eom        date  days water_m3  cons    av_day  days_month  \\\n",
      "0  2011-06-30  2011-06-01   0.0      NaN   0.0  0.219512          30   \n",
      "1  2011-07-31  2011-07-12  41.0       10   9.0  0.219512          31   \n",
      "2  2011-08-31  2011-08-01   NaN      NaN   NaN  0.267760          31   \n",
      "3  2011-09-30  2011-09-01   NaN      NaN   NaN  0.267760          30   \n",
      "4  2011-10-31  2011-10-01   NaN      NaN   NaN  0.267760          31   \n",
      "\n",
      "   days_cons  missing_days  calc_cons  diff_cons  cons_month  \n",
      "0         30             0   6.585366  -6.585366    6.585366  \n",
      "1         12            19   7.721578   1.278422    6.804878  \n",
      "2         31             0   8.300546        NaN    8.300546  \n",
      "3         30             0   8.032787        NaN    8.032787  \n",
      "4         31             0   8.300546        NaN    8.300546  \n"
     ]
    }
   ],
   "source": [
    "# function to describe and info for the dataframes\n",
    "\n",
    "def describe_info(df):\n",
    "    print(df.describe())\n",
    "    print(df.info())\n",
    "    print(df.head())\n",
    "\n",
    "# call the function to describe and info for the dataframes\n",
    "describe_info(water)\n"
   ]
  },
  {
   "cell_type": "code",
   "execution_count": 11,
   "metadata": {},
   "outputs": [],
   "source": [
    "# create new column in df water and power with the name 'cons_month' with the value of av_day * days_cons + that next month av_day * missing_days\n",
    "\n",
    "water['cons_month'] = water['av_day'] * water['days_cons'] + water['av_day'] * water['missing_days'] "
   ]
  },
  {
   "cell_type": "markdown",
   "metadata": {},
   "source": [
    "# SQL DB"
   ]
  }
 ],
 "metadata": {
  "kernelspec": {
   "display_name": "Python 3",
   "language": "python",
   "name": "python3"
  },
  "language_info": {
   "codemirror_mode": {
    "name": "ipython",
    "version": 3
   },
   "file_extension": ".py",
   "mimetype": "text/x-python",
   "name": "python",
   "nbconvert_exporter": "python",
   "pygments_lexer": "ipython3",
   "version": "3.11.8"
  }
 },
 "nbformat": 4,
 "nbformat_minor": 2
}
