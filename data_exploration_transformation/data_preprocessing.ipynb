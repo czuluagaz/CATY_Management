{
 "cells": [
  {
   "cell_type": "markdown",
   "metadata": {},
   "source": [
    "# Data preprocessing"
   ]
  },
  {
   "cell_type": "code",
   "execution_count": 1,
   "metadata": {},
   "outputs": [],
   "source": [
    "# import area\n",
    "import pandas as pd\n",
    "import os\n"
   ]
  },
  {
   "cell_type": "code",
   "execution_count": null,
   "metadata": {},
   "outputs": [],
   "source": [
    "import os\n",
    "import pandas as pd\n",
    "# create dataframes using Path.cwd() to get the current working directory\n",
    "# and os.path.join to join the current working directory with the file name to create the path\n",
    "# and pd.read_csv to read the csv file and creat\n",
    "# Get the current working directory\n",
    "cwd = os.getcwd()\n",
    "\n",
    "# Define the file path\n",
    "file_path = os.path.join(cwd, 'gas.csv')\n",
    "\n",
    "# Read the CSV file into a dataframe\n",
    "gas = pd.read_csv(file_path)\n",
    "power = pd.read_csv(os.path.join(cwd, 'power.csv'))\n",
    "water = pd.read_csv(os.path.join(cwd, 'water.csv'))\n"
   ]
  },
  {
   "cell_type": "markdown",
   "metadata": {},
   "source": [
    "# Exploratory for water"
   ]
  },
  {
   "cell_type": "code",
   "execution_count": null,
   "metadata": {},
   "outputs": [
    {
     "ename": "",
     "evalue": "",
     "output_type": "error",
     "traceback": [
      "\u001b[1;31mThe Kernel crashed while executing code in the current cell or a previous cell. \n",
      "\u001b[1;31mPlease review the code in the cell(s) to identify a possible cause of the failure. \n",
      "\u001b[1;31mClick <a href='https://aka.ms/vscodeJupyterKernelCrash'>here</a> for more info. \n",
      "\u001b[1;31mView Jupyter <a href='command:jupyter.viewOutput'>log</a> for further details."
     ]
    }
   ],
   "source": [
    "# function to describe and info for the dataframes\n",
    "\n",
    "def describe_info(df):\n",
    "    print(df.describe())\n",
    "    print(df.info())\n",
    "    print(df.head())\n",
    "\n",
    "# call the function to describe and info for the dataframes\n",
    "describe_info(water)\n"
   ]
  },
  {
   "cell_type": "code",
   "execution_count": 11,
   "metadata": {},
   "outputs": [],
   "source": [
    "# create new column in df water and power with the name 'cons_month' with the value of av_day * days_cons + that next month av_day * missing_days\n",
    "\n",
    "water['cons_month'] = water['av_day'] * water['days_cons'] + water['av_day'] * water['missing_days'] "
   ]
  },
  {
   "cell_type": "markdown",
   "metadata": {},
   "source": [
    "# SQL DB"
   ]
  }
 ],
 "metadata": {
  "kernelspec": {
   "display_name": "Python 3",
   "language": "python",
   "name": "python3"
  },
  "language_info": {
   "codemirror_mode": {
    "name": "ipython",
    "version": 3
   },
   "file_extension": ".py",
   "mimetype": "text/x-python",
   "name": "python",
   "nbconvert_exporter": "python",
   "pygments_lexer": "ipython3",
   "version": "3.11.8"
  }
 },
 "nbformat": 4,
 "nbformat_minor": 2
}
